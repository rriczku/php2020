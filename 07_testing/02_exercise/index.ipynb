{
 "cells": [
  {
   "cell_type": "markdown",
   "metadata": {},
   "source": [
    "# PHP 2020"
   ]
  },
  {
   "cell_type": "markdown",
   "metadata": {},
   "source": [
    "## 7. Testing"
   ]
  },
  {
   "cell_type": "markdown",
   "metadata": {},
   "source": [
    "### 7.2 Exercise"
   ]
  },
  {
   "cell_type": "markdown",
   "metadata": {},
   "source": [
    "Implment missing code."
   ]
  },
  {
   "cell_type": "markdown",
   "metadata": {},
   "source": [
    "Start the databses:"
   ]
  },
  {
   "cell_type": "code",
   "execution_count": 1,
   "metadata": {},
   "outputs": [
    {
     "name": "stdout",
     "output_type": "stream",
     "text": [
      "e706f26ab45092a365fdf245b28654aabdd5b5c45a1a3867a4b421a0cbd52206\r\n"
     ]
    }
   ],
   "source": [
    "! docker run --net=host --rm --name redis -d redis"
   ]
  },
  {
   "cell_type": "code",
   "execution_count": 2,
   "metadata": {},
   "outputs": [
    {
     "name": "stdout",
     "output_type": "stream",
     "text": [
      "55209cd6bf86da2e0e2314997bf736ec410dcebb4d4ce59b781d41a90b6f84ec\r\n"
     ]
    }
   ],
   "source": [
    "! docker run --name=mysql --net=host --rm --env MYSQL_ROOT_PASSWORD=root123 --env MYSQL_DATABASE=test --env MYSQL_USER=test --env MYSQL_PASSWORD=test123 -d mysql/mysql-server:8.0"
   ]
  },
  {
   "cell_type": "code",
   "execution_count": 3,
   "metadata": {},
   "outputs": [
    {
     "name": "stdout",
     "output_type": "stream",
     "text": [
      "Done.\r\n"
     ]
    }
   ],
   "source": [
    "! while ! timeout 1 bash -c \"echo > /dev/tcp/localhost/6379\" 2> /dev/null; do sleep 1; done; echo \"Done.\";"
   ]
  },
  {
   "cell_type": "code",
   "execution_count": 4,
   "metadata": {},
   "outputs": [
    {
     "name": "stdout",
     "output_type": "stream",
     "text": [
      "Done.\r\n"
     ]
    }
   ],
   "source": [
    "! while ! timeout 1 bash -c \"echo > /dev/tcp/localhost/3306\" 2> /dev/null; do sleep 1; done; echo \"Done.\";"
   ]
  },
  {
   "cell_type": "markdown",
   "metadata": {},
   "source": [
    "Edit the code:"
   ]
  },
  {
   "cell_type": "code",
   "execution_count": 5,
   "metadata": {},
   "outputs": [
    {
     "name": "stdout",
     "output_type": "stream",
     "text": [
      "OpenJDK 64-Bit Server VM warning: Option UseConcMarkSweepGC was deprecated in version 9.0 and will likely be removed in a future release.\n",
      "2020-12-04 11:39:36,077 [  13598]   WARN - Container.ComponentManagerImpl - Do not use constructor injection (requestorClass=org.jetbrains.plugins.phpstorm.PhpStormInitialConfigurator) \n",
      "2020-12-04 11:39:43,536 [  21057]   WARN - .diagnostic.PerformanceWatcher - UI was frozen for 5131ms, details saved to /home/student/.cache/JetBrains/PhpStorm2020.2/log/threadDumps-freeze-20201204-113943-PS-202.6948.87-IdeaMenuUI.getPreferredMenuItemSize-5sec \n",
      "2020-12-04 11:40:09,386 [  46907]   WARN - pl.local.NativeFileWatcherImpl - Watcher terminated with exit code 3 \n",
      "2020-12-04 11:40:09,469 [  46990]   WARN - com.intellij.util.xmlb.Binding - no accessors for com.jetbrains.php.testFramework.PhpTestFrameworkType \n",
      "2020-12-04 11:40:09,860 [  47381]   WARN - pl.local.NativeFileWatcherImpl - Watcher terminated with exit code 3 \n",
      "2020-12-04 11:40:10,360 [  47881]   WARN - pl.local.NativeFileWatcherImpl - Watcher terminated with exit code 3 \n",
      "2020-12-04 11:40:10,868 [  48389]   WARN - pl.local.NativeFileWatcherImpl - Watcher terminated with exit code 3 \n",
      "2020-12-04 11:40:11,368 [  48889]   WARN - pl.local.NativeFileWatcherImpl - Watcher terminated with exit code 3 \n",
      "2020-12-04 11:40:11,759 [  49280]   WARN - pl.local.NativeFileWatcherImpl - Watcher terminated with exit code 3 \n",
      "2020-12-04 11:40:12,103 [  49624]   WARN - pl.local.NativeFileWatcherImpl - Watcher terminated with exit code 3 \n",
      "2020-12-04 11:40:12,561 [  50082]   WARN - pl.local.NativeFileWatcherImpl - Watcher terminated with exit code 3 \n",
      "2020-12-04 11:40:12,944 [  50465]   WARN - pl.local.NativeFileWatcherImpl - Watcher terminated with exit code 3 \n",
      "2020-12-04 11:40:13,339 [  50860]   WARN - pl.local.NativeFileWatcherImpl - Watcher terminated with exit code 3 \n",
      "2020-12-04 11:40:13,340 [  50861]   WARN - api.vfs.impl.local.FileWatcher - File watcher failed to start \n",
      "2020-12-04 11:40:13,621 [  51142]   WARN - .diagnostic.PerformanceWatcher - UI was frozen for 5911ms, details saved to /home/student/.cache/JetBrains/PhpStorm2020.2/log/threadDumps-freeze-20201204-114012-PS-202.6948.87-Parser.handleText-5sec \n",
      "2020-12-04 11:50:16,260 [ 653781]   WARN - com.intellij.util.xmlb.Binding - no accessors for org.jetbrains.idea.perforce.perforce.ConnectionId \n",
      "2020-12-04 12:12:43,784 [2001305]   WARN - .AbstractProgressIndicatorBase - This progress indicator is indeterminate, this may lead to visual inconsistency. Please call setIndeterminate(false) before you start progress.\n",
      "com.intellij.openapi.vcs.impl.CodeSmellDetectorImpl.findCodeSmells(CodeSmellDetectorImpl.java:137) \n",
      "2020-12-04 12:22:54,308 [2611829]   WARN - ystem.impl.ActionPopupMenuImpl - 1876ms to fill popup menu ProjectViewPopup \n",
      "2020-12-04 13:26:43,943 [6441464]   WARN - ntellij.ui.popup.AbstractPopup - popup preferred size is bigger than screen: 960x89\n",
      "    com.intellij.ui.popup.AbstractPopup$MyContentPanel\n",
      "      com.intellij.ui.components.panels.OpaquePanel\n",
      "        com.intellij.codeInsight.hint.ParameterInfoController$WrapperPanel\n",
      "          com.intellij.codeInsight.hint.ParameterInfoComponent\n",
      "            com.intellij.ui.components.JBScrollPane\n",
      "              com.intellij.ui.components.JBViewport\n",
      "                javax.swing.JPanel\n",
      "                  com.intellij.codeInsight.hint.ParameterInfoComponent$OneElementComponent\n",
      "                    com.intellij.codeInsight.hint.ParameterInfoComponent$OneLineComponent\n",
      "                      javax.swing.JLabel\n",
      "              com.intellij.ui.components.JBScrollBar\n",
      "              com.intellij.ui.components.JBScrollBar\n",
      "              com.intellij.ui.components.JBScrollPane$Corner\n",
      "              com.intellij.ui.components.JBScrollPane$Corner\n",
      "              com.intellij.ui.components.JBScrollPane$Corner\n",
      "              com.intellij.ui.components.JBScrollPane$Corner\n",
      "      javax.swing.JPanel\n",
      "        com.intellij.ui.CaptionPanel \n",
      "2020-12-04 19:14:50,083 [27327604]   WARN - .AbstractProgressIndicatorBase - This progress indicator is indeterminate, this may lead to visual inconsistency. Please call setIndeterminate(false) before you start progress.\n",
      "com.intellij.openapi.vcs.impl.CodeSmellDetectorImpl.findCodeSmells(CodeSmellDetectorImpl.java:137) \n",
      "2020-12-04 22:09:21,660 [37799181]   WARN - .AbstractProgressIndicatorBase - This progress indicator is indeterminate, this may lead to visual inconsistency. Please call setIndeterminate(false) before you start progress.\n",
      "com.intellij.openapi.vcs.impl.CodeSmellDetectorImpl.findCodeSmells(CodeSmellDetectorImpl.java:137) \n",
      "2020-12-04 22:39:13,911 [39591432]   WARN - .AbstractProgressIndicatorBase - This progress indicator is indeterminate, this may lead to visual inconsistency. Please call setIndeterminate(false) before you start progress.\n",
      "com.intellij.openapi.vcs.impl.CodeSmellDetectorImpl.findCodeSmells(CodeSmellDetectorImpl.java:137) \n"
     ]
    }
   ],
   "source": [
    "! phpstorm project"
   ]
  },
  {
   "cell_type": "markdown",
   "metadata": {},
   "source": [
    "You can test your solution using included tests:"
   ]
  },
  {
   "cell_type": "code",
   "execution_count": 8,
   "metadata": {},
   "outputs": [
    {
     "name": "stdout",
     "output_type": "stream",
     "text": [
      "\u001b[32mLoading composer repositories with package information\u001b[39m\n",
      "\u001b[32mInstalling dependencies (including require-dev) from lock file\u001b[39m\n",
      "Nothing to install or update\n",
      "\u001b[32mGenerating autoload files\u001b[39m\n",
      "\u001b[32m47 packages you are using are looking for funding.\u001b[39m\n",
      "\u001b[32mUse the `composer fund` command to find out more!\u001b[39m\n"
     ]
    }
   ],
   "source": [
    "! cd project && composer install"
   ]
  },
  {
   "cell_type": "code",
   "execution_count": 9,
   "metadata": {},
   "outputs": [],
   "source": [
    "import subprocess\n",
    "phpServer = subprocess.Popen(['php', '-S', 'localhost:8888', '-t', 'project/public'])"
   ]
  },
  {
   "cell_type": "code",
   "execution_count": 10,
   "metadata": {},
   "outputs": [
    {
     "name": "stdout",
     "output_type": "stream",
     "text": [
      "Codeception PHP Testing Framework v4.1.12\n",
      "Powered by PHPUnit 9.4.3 by Sebastian Bergmann and contributors.\n",
      "Running with seed: \n",
      "\n",
      "\n",
      "\u001b[1mUnit Tests (24) \u001b[22m----------------------------------------------------------------\n",
      "\u001b[32;1m✔\u001b[39;22m \u001b[35;1mRingBufferCest:\u001b[39;22m Create \u001b[32m(0.00s)\u001b[39m\n",
      "\u001b[32;1m✔\u001b[39;22m \u001b[35;1mRingBufferCest:\u001b[39;22m Should be empty \u001b[32m(0.00s)\u001b[39m\n",
      "\u001b[32;1m✔\u001b[39;22m \u001b[35;1mRingBufferCest:\u001b[39;22m Capacity \u001b[32m(0.00s)\u001b[39m\n",
      "\u001b[32;1m✔\u001b[39;22m \u001b[35;1mRingBufferCest:\u001b[39;22m Size should be zero when empty \u001b[32m(0.00s)\u001b[39m\n",
      "\u001b[32;1m✔\u001b[39;22m \u001b[35;1mRingBufferCest:\u001b[39;22m Push value size should increase \u001b[32m(0.00s)\u001b[39m\n",
      "\u001b[32;1m✔\u001b[39;22m \u001b[35;1mRingBufferCest:\u001b[39;22m Empty should be false when full \u001b[32m(0.00s)\u001b[39m\n",
      "\u001b[32;1m✔\u001b[39;22m \u001b[35;1mRingBufferCest:\u001b[39;22m Pop from empty \u001b[32m(0.00s)\u001b[39m\n",
      "\u001b[32;1m✔\u001b[39;22m \u001b[35;1mRingBufferCest:\u001b[39;22m Push and pop single value \u001b[32m(0.00s)\u001b[39m\n",
      "\u001b[32;1m✔\u001b[39;22m \u001b[35;1mRingBufferCest:\u001b[39;22m Pop should reduce size \u001b[32m(0.00s)\u001b[39m\n",
      "\u001b[32;1m✔\u001b[39;22m \u001b[35;1mRingBufferCest:\u001b[39;22m Back should not change buffer \u001b[32m(0.00s)\u001b[39m\n",
      "\u001b[32;1m✔\u001b[39;22m \u001b[35;1mRingBufferCest:\u001b[39;22m Push multiple times \u001b[32m(0.01s)\u001b[39m\n",
      "\u001b[32;1m✔\u001b[39;22m \u001b[35;1mRingBufferCest:\u001b[39;22m Multi item buffer \u001b[32m(0.02s)\u001b[39m\n",
      "\u001b[32;1m✔\u001b[39;22m \u001b[35;1mRingBufferCest:\u001b[39;22m Push and pop all values \u001b[32m(0.02s)\u001b[39m\n",
      "\u001b[32;1m✔\u001b[39;22m \u001b[35;1mRingBufferCest:\u001b[39;22m Access values by index \u001b[32m(0.00s)\u001b[39m\n",
      "\u001b[32;1m✔\u001b[39;22m \u001b[35;1mStringEditorCest:\u001b[39;22m Create \u001b[32m(0.00s)\u001b[39m\n",
      "\u001b[32;1m✔\u001b[39;22m \u001b[35;1mStringEditorCest:\u001b[39;22m Replace word \u001b[32m(0.00s)\u001b[39m\n",
      "\u001b[32;1m✔\u001b[39;22m \u001b[35;1mStringEditorCest:\u001b[39;22m Lowercase \u001b[32m(0.00s)\u001b[39m\n",
      "\u001b[32;1m✔\u001b[39;22m \u001b[35;1mStringEditorCest:\u001b[39;22m Uppercase \u001b[32m(0.00s)\u001b[39m\n",
      "\u001b[32;1m✔\u001b[39;22m \u001b[35;1mStringEditorCest:\u001b[39;22m Replace and upper case \u001b[32m(0.00s)\u001b[39m\n",
      "\u001b[32;1m✔\u001b[39;22m \u001b[35;1mStringEditorCest:\u001b[39;22m Censor word \u001b[32m(0.00s)\u001b[39m\n",
      "\u001b[32;1m✔\u001b[39;22m \u001b[35;1mStringEditorCest:\u001b[39;22m Censor short and long words \u001b[32m(0.00s)\u001b[39m\n",
      "\u001b[32;1m✔\u001b[39;22m \u001b[35;1mStringEditorCest:\u001b[39;22m Repeat word \u001b[32m(0.00s)\u001b[39m\n",
      "\u001b[32;1m✔\u001b[39;22m \u001b[35;1mStringEditorCest:\u001b[39;22m Remove word \u001b[32m(0.00s)\u001b[39m\n",
      "\u001b[32;1m✔\u001b[39;22m itorCest:\u001b[39;22m Edit sentence\u001b[35;1mStringEditorCest:\u001b[39;22m Edit sentence \u001b[32m(0.00s)\u001b[39m\n",
      "--------------------------------------------------------------------------------\n",
      "\n",
      "\n",
      "Time: 00:00.306, Memory: 10.00 MB\n",
      "\n",
      "\u001b[30;42mOK (24 tests, 75 assertions)\u001b[0m\n"
     ]
    }
   ],
   "source": [
    "! cd project && vendor/bin/codecept run unit"
   ]
  },
  {
   "cell_type": "code",
   "execution_count": 11,
   "metadata": {},
   "outputs": [
    {
     "name": "stdout",
     "output_type": "stream",
     "text": [
      "Codeception PHP Testing Framework v4.1.12\n",
      "Powered by PHPUnit 9.4.3 by Sebastian Bergmann and contributors.\n",
      "Running with seed: \n",
      "\n",
      "\n",
      "\u001b[1mAcceptance Tests (15) \u001b[22m----------------------------------------------------------\n",
      "\u001b[32;1m✔\u001b[39;22m \u001b[35;1m00_PrettyUrlCept:\u001b[39;22m  \u001b[32m(0.27s)\u001b[39m\n",
      "\u001b[32;1m✔\u001b[39;22m \u001b[35;1m01_FileStorageCept:\u001b[39;22m  \u001b[32m(0.07s)\u001b[39m\n",
      "\u001b[32;1m✔\u001b[39;22m \u001b[35;1m02_SessionStorageCept:\u001b[39;22m  \u001b[32m(0.03s)\u001b[39m\n",
      "\u001b[32;1m✔\u001b[39;22m \u001b[35;1m03_SQLiteStorageCept:\u001b[39;22m  \u001b[32m(0.14s)\u001b[39m\n",
      "\u001b[32;1m✔\u001b[39;22m \u001b[35;1m04_MySQLStorageCept:\u001b[39;22m  \u001b[32m(0.41s)\u001b[39m\n",
      "\u001b[32;1m✔\u001b[39;22m \u001b[35;1m05_RedisStorageCept:\u001b[39;22m  \u001b[32m(0.11s)\u001b[39m\n",
      "\u001b[32;1m✔\u001b[39;22m \u001b[35;1m06_HomepageCept:\u001b[39;22m See login and register links \u001b[32m(0.18s)\u001b[39m\n",
      "\u001b[32;1m✔\u001b[39;22m \u001b[35;1m07_RegisterCept:\u001b[39;22m Register new user \u001b[32m(0.52s)\u001b[39m\n",
      "\u001b[32;1m✔\u001b[39;22m \u001b[35;1m08_RegisterValidationCept:\u001b[39;22m Validate data entered during registration \u001b[32m(0.20s)\u001b[39m\n",
      "\u001b[32;1m✔\u001b[39;22m \u001b[35;1m09_RegisterRememberFieldsCept:\u001b[39;22m Remember data entered during registration when validation error is present \u001b[32m(0.40s)\u001b[39m\n",
      "\u001b[32;1m✔\u001b[39;22m \u001b[35;1m10_RegisterConfirmCept:\u001b[39;22m Check that info disappears after page refresh \u001b[32m(0.34s)\u001b[39m\n",
      "\u001b[32;1m✔\u001b[39;22m \u001b[35;1m11_LoginNotExistingCept:\u001b[39;22m See error when user does not exists \u001b[32m(0.22s)\u001b[39m\n",
      "\u001b[32;1m✔\u001b[39;22m \u001b[35;1m12_LoginWrongPasswordCept:\u001b[39;22m See error when wrong password is entered \u001b[32m(0.31s)\u001b[39m\n",
      "\u001b[32;1m✔\u001b[39;22m \u001b[35;1m13_LoginNotConfirmedCept:\u001b[39;22m Be remained about email confirmation when trying to login \u001b[32m(0.29s)\u001b[39m\n",
      "\u001b[32;1m✔\u001b[39;22m \u001b[35;1m14_LoginLogoutSeeHiddenContentCept:\u001b[39;22m See hidden content after login \u001b[32m(0.40s)\u001b[39m\n",
      "--------------------------------------------------------------------------------\n",
      "\u001b[33m20x DEPRECATION: \u001b[39m\u001b[1mProperties dbh and driver are deprecated in favor of Db::_getDbh and Db::_getDriver\u001b[22m\u001b[33m \u001b[39m\u001b[32mDb module\u001b[39m\n",
      "\n",
      "\n",
      "Time: 00:05.083, Memory: 14.00 MB\n",
      "\n",
      "\u001b[30;42mOK (15 tests, 299 assertions)\u001b[0m\n"
     ]
    }
   ],
   "source": [
    "! cd project && vendor/bin/codecept run acceptance"
   ]
  },
  {
   "cell_type": "code",
   "execution_count": 12,
   "metadata": {},
   "outputs": [],
   "source": [
    "phpServer.kill()"
   ]
  },
  {
   "cell_type": "markdown",
   "metadata": {},
   "source": [
    "Stop the databses:"
   ]
  },
  {
   "cell_type": "code",
   "execution_count": 13,
   "metadata": {},
   "outputs": [
    {
     "name": "stdout",
     "output_type": "stream",
     "text": [
      "redis\r\n"
     ]
    }
   ],
   "source": [
    "! docker container stop redis"
   ]
  },
  {
   "cell_type": "code",
   "execution_count": 14,
   "metadata": {},
   "outputs": [
    {
     "name": "stdout",
     "output_type": "stream",
     "text": [
      "mysql\r\n"
     ]
    }
   ],
   "source": [
    "! docker container stop mysql"
   ]
  }
 ],
 "metadata": {
  "kernelspec": {
   "display_name": "Python 3",
   "language": "python",
   "name": "python3"
  },
  "language_info": {
   "codemirror_mode": {
    "name": "ipython",
    "version": 3
   },
   "file_extension": ".py",
   "mimetype": "text/x-python",
   "name": "python",
   "nbconvert_exporter": "python",
   "pygments_lexer": "ipython3",
   "version": "3.8.3"
  }
 },
 "nbformat": 4,
 "nbformat_minor": 4
}
