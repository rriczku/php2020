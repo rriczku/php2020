{
 "cells": [
  {
   "cell_type": "markdown",
   "metadata": {},
   "source": [
    "# PHP 2020"
   ]
  },
  {
   "cell_type": "markdown",
   "metadata": {},
   "source": [
    "## 6. Dependency Manager"
   ]
  },
  {
   "cell_type": "markdown",
   "metadata": {},
   "source": [
    "### 6.2 Exercise"
   ]
  },
  {
   "cell_type": "markdown",
   "metadata": {},
   "source": [
    "Configure ```Composer```, add ```predis/predis``` package and implement the ```RedisStorage``` class."
   ]
  },
  {
   "cell_type": "markdown",
   "metadata": {},
   "source": [
    "Start the databses:"
   ]
  },
  {
   "cell_type": "code",
   "execution_count": 1,
   "metadata": {},
   "outputs": [
    {
     "name": "stdout",
     "output_type": "stream",
     "text": [
      "c3f3e8176d8f24dc8f8d73ae933b477cff9f4dde177bb7caa8c3a232ada509c4\r\n"
     ]
    }
   ],
   "source": [
    "! docker run --net=host --rm --name redis -d redis"
   ]
  },
  {
   "cell_type": "code",
   "execution_count": 2,
   "metadata": {},
   "outputs": [
    {
     "name": "stdout",
     "output_type": "stream",
     "text": [
      "d424acf032dfeccf5d3a662a51751a2455a08792f5721b22a5c9940b3c431e2d\r\n"
     ]
    }
   ],
   "source": [
    "! docker run --name=mysql --net=host --rm --env MYSQL_ROOT_PASSWORD=root123 --env MYSQL_DATABASE=test --env MYSQL_USER=test --env MYSQL_PASSWORD=test123 -d mysql/mysql-server:8.0"
   ]
  },
  {
   "cell_type": "code",
   "execution_count": 3,
   "metadata": {},
   "outputs": [
    {
     "name": "stdout",
     "output_type": "stream",
     "text": [
      "Done.\r\n"
     ]
    }
   ],
   "source": [
    "! while ! timeout 1 bash -c \"echo > /dev/tcp/localhost/6379\" 2> /dev/null; do sleep 1; done; echo \"Done.\";"
   ]
  },
  {
   "cell_type": "code",
   "execution_count": 4,
   "metadata": {},
   "outputs": [
    {
     "name": "stdout",
     "output_type": "stream",
     "text": [
      "Done.\r\n"
     ]
    }
   ],
   "source": [
    "! while ! timeout 1 bash -c \"echo > /dev/tcp/localhost/3306\" 2> /dev/null; do sleep 1; done; echo \"Done.\";"
   ]
  },
  {
   "cell_type": "markdown",
   "metadata": {},
   "source": [
    "Edit the code:"
   ]
  },
  {
   "cell_type": "code",
   "execution_count": 5,
   "metadata": {},
   "outputs": [
    {
     "name": "stdout",
     "output_type": "stream",
     "text": [
      "OpenJDK 64-Bit Server VM warning: Option UseConcMarkSweepGC was deprecated in version 9.0 and will likely be removed in a future release.\n",
      "2020-11-25 17:07:43,007 [  20861]   WARN - Container.ComponentManagerImpl - Do not use constructor injection (requestorClass=org.jetbrains.plugins.phpstorm.PhpStormInitialConfigurator) \n",
      "2020-11-25 17:07:53,364 [  31218]   WARN - .diagnostic.PerformanceWatcher - UI was frozen for 7610ms, details saved to /home/student/.cache/JetBrains/PhpStorm2020.2/log/threadDumps-freeze-20201125-170750-PS-202.6948.87-BaseComponentAdapter.getInstanceUncached-7sec \n",
      "2020-11-25 17:08:16,066 [  53920]   WARN - pl.local.NativeFileWatcherImpl - Watcher terminated with exit code 3 \n",
      "2020-11-25 17:08:16,484 [  54338]   WARN - pl.local.NativeFileWatcherImpl - Watcher terminated with exit code 3 \n",
      "2020-11-25 17:08:16,956 [  54810]   WARN - pl.local.NativeFileWatcherImpl - Watcher terminated with exit code 3 \n",
      "2020-11-25 17:08:17,387 [  55241]   WARN - pl.local.NativeFileWatcherImpl - Watcher terminated with exit code 3 \n",
      "2020-11-25 17:08:17,910 [  55764]   WARN - pl.local.NativeFileWatcherImpl - Watcher terminated with exit code 3 \n",
      "2020-11-25 17:08:18,316 [  56170]   WARN - pl.local.NativeFileWatcherImpl - Watcher terminated with exit code 3 \n",
      "2020-11-25 17:08:18,808 [  56662]   WARN - pl.local.NativeFileWatcherImpl - Watcher terminated with exit code 3 \n",
      "2020-11-25 17:08:19,214 [  57068]   WARN - pl.local.NativeFileWatcherImpl - Watcher terminated with exit code 3 \n",
      "2020-11-25 17:08:19,832 [  57686]   WARN - pl.local.NativeFileWatcherImpl - Watcher terminated with exit code 3 \n",
      "2020-11-25 17:08:20,295 [  58149]   WARN - pl.local.NativeFileWatcherImpl - Watcher terminated with exit code 3 \n",
      "2020-11-25 17:08:20,295 [  58149]   WARN - api.vfs.impl.local.FileWatcher - File watcher failed to start \n"
     ]
    }
   ],
   "source": [
    "! phpstorm project"
   ]
  },
  {
   "cell_type": "markdown",
   "metadata": {},
   "source": [
    "You can test your solution using included tests:"
   ]
  },
  {
   "cell_type": "code",
   "execution_count": 6,
   "metadata": {},
   "outputs": [
    {
     "name": "stdout",
     "output_type": "stream",
     "text": [
      "\u001b[32mLoading composer repositories with package information\u001b[39m\n",
      "\u001b[32mInstalling dependencies (including require-dev) from lock file\u001b[39m\n",
      "Nothing to install or update\n",
      "\u001b[32mGenerating autoload files\u001b[39m\n",
      "\u001b[32m1 package you are using is looking for funding.\u001b[39m\n",
      "\u001b[32mUse the `composer fund` command to find out more!\u001b[39m\n"
     ]
    }
   ],
   "source": [
    "! cd project && composer install"
   ]
  },
  {
   "cell_type": "code",
   "execution_count": 7,
   "metadata": {},
   "outputs": [],
   "source": [
    "import subprocess\n",
    "phpServer = subprocess.Popen(['php', '-S', 'localhost:8888', '-t', 'project/public'])"
   ]
  },
  {
   "cell_type": "code",
   "execution_count": 8,
   "metadata": {},
   "outputs": [
    {
     "name": "stdout",
     "output_type": "stream",
     "text": [
      "\u001b[32mLoading composer repositories with package information\u001b[39m\n",
      "\u001b[32mInstalling dependencies (including require-dev) from lock file\u001b[39m\n",
      "\u001b[32mPackage operations: 70 installs, 0 updates, 0 removals\u001b[39m\n",
      "  - Installing \u001b[32mbehat/gherkin\u001b[39m (\u001b[33mv4.6.2\u001b[39m): Loading from cache\n",
      "  - Installing \u001b[32msebastian/version\u001b[39m (\u001b[33m3.0.1\u001b[39m): Loading from cache\n",
      "  - Installing \u001b[32msebastian/type\u001b[39m (\u001b[33m2.2.1\u001b[39m): Loading from cache\n",
      "  - Installing \u001b[32msebastian/resource-operations\u001b[39m (\u001b[33m3.0.2\u001b[39m): Loading from cache\n",
      "  - Installing \u001b[32msebastian/recursion-context\u001b[39m (\u001b[33m4.0.2\u001b[39m): Loading from cache\n",
      "  - Installing \u001b[32msebastian/object-reflector\u001b[39m (\u001b[33m2.0.2\u001b[39m): Loading from cache\n",
      "  - Installing \u001b[32msebastian/object-enumerator\u001b[39m (\u001b[33m4.0.2\u001b[39m): Loading from cache\n",
      "  - Installing \u001b[32msebastian/global-state\u001b[39m (\u001b[33m5.0.0\u001b[39m): Loading from cache\n",
      "  - Installing \u001b[32msebastian/exporter\u001b[39m (\u001b[33m4.0.2\u001b[39m): Loading from cache\n",
      "  - Installing \u001b[32msebastian/environment\u001b[39m (\u001b[33m5.1.2\u001b[39m): Loading from cache\n",
      "  - Installing \u001b[32msebastian/diff\u001b[39m (\u001b[33m4.0.2\u001b[39m): Loading from cache\n",
      "  - Installing \u001b[32msebastian/comparator\u001b[39m (\u001b[33m4.0.3\u001b[39m): Loading from cache\n",
      "  - Installing \u001b[32msebastian/code-unit\u001b[39m (\u001b[33m1.0.5\u001b[39m): Loading from cache\n",
      "  - Installing \u001b[32msebastian/cli-parser\u001b[39m (\u001b[33m1.0.0\u001b[39m): Loading from cache\n",
      "  - Installing \u001b[32mphpunit/php-timer\u001b[39m (\u001b[33m5.0.1\u001b[39m): Loading from cache\n",
      "  - Installing \u001b[32mphpunit/php-text-template\u001b[39m (\u001b[33m2.0.2\u001b[39m): Loading from cache\n",
      "  - Installing \u001b[32mphpunit/php-invoker\u001b[39m (\u001b[33m3.1.0\u001b[39m): Loading from cache\n",
      "  - Installing \u001b[32mphpunit/php-file-iterator\u001b[39m (\u001b[33m3.0.4\u001b[39m): Loading from cache\n",
      "  - Installing \u001b[32mtheseer/tokenizer\u001b[39m (\u001b[33m1.2.0\u001b[39m): Loading from cache\n",
      "  - Installing \u001b[32mnikic/php-parser\u001b[39m (\u001b[33mv4.10.1\u001b[39m): Loading from cache\n",
      "  - Installing \u001b[32msebastian/lines-of-code\u001b[39m (\u001b[33m1.0.0\u001b[39m): Loading from cache\n",
      "  - Installing \u001b[32msebastian/complexity\u001b[39m (\u001b[33m2.0.0\u001b[39m): Loading from cache\n",
      "  - Installing \u001b[32msebastian/code-unit-reverse-lookup\u001b[39m (\u001b[33m2.0.2\u001b[39m): Loading from cache\n",
      "  - Installing \u001b[32mphpunit/php-code-coverage\u001b[39m (\u001b[33m9.1.11\u001b[39m): Loading from cache\n",
      "  - Installing \u001b[32msymfony/polyfill-ctype\u001b[39m (\u001b[33mv1.18.1\u001b[39m): Loading from cache\n",
      "  - Installing \u001b[32mwebmozart/assert\u001b[39m (\u001b[33m1.9.1\u001b[39m): Loading from cache\n",
      "  - Installing \u001b[32mphpdocumentor/reflection-common\u001b[39m (\u001b[33m2.2.0\u001b[39m): Loading from cache\n",
      "  - Installing \u001b[32mphpdocumentor/type-resolver\u001b[39m (\u001b[33m1.4.0\u001b[39m): Loading from cache\n",
      "  - Installing \u001b[32mphpdocumentor/reflection-docblock\u001b[39m (\u001b[33m5.2.2\u001b[39m): Loading from cache\n",
      "  - Installing \u001b[32mdoctrine/instantiator\u001b[39m (\u001b[33m1.3.1\u001b[39m): Loading from cache\n",
      "  - Installing \u001b[32mphpspec/prophecy\u001b[39m (\u001b[33m1.11.1\u001b[39m): Loading from cache\n",
      "  - Installing \u001b[32mphar-io/version\u001b[39m (\u001b[33m3.0.2\u001b[39m): Loading from cache\n",
      "  - Installing \u001b[32mphar-io/manifest\u001b[39m (\u001b[33m2.0.1\u001b[39m): Loading from cache\n",
      "  - Installing \u001b[32mmyclabs/deep-copy\u001b[39m (\u001b[33m1.10.1\u001b[39m): Loading from cache\n",
      "  - Installing \u001b[32mphpunit/phpunit\u001b[39m (\u001b[33m9.3.11\u001b[39m): Loading from cache\n",
      "  - Installing \u001b[32mcodeception/phpunit-wrapper\u001b[39m (\u001b[33m9.0.4\u001b[39m): Loading from cache\n",
      "  - Installing \u001b[32mcodeception/lib-asserts\u001b[39m (\u001b[33m1.13.1\u001b[39m): Loading from cache\n",
      "  - Installing \u001b[32msymfony/deprecation-contracts\u001b[39m (\u001b[33mv2.2.0\u001b[39m): Loading from cache\n",
      "  - Installing \u001b[32msymfony/yaml\u001b[39m (\u001b[33mv5.1.5\u001b[39m): Loading from cache\n",
      "  - Installing \u001b[32msymfony/finder\u001b[39m (\u001b[33mv5.1.5\u001b[39m): Loading from cache\n",
      "  - Installing \u001b[32msymfony/polyfill-php80\u001b[39m (\u001b[33mv1.18.1\u001b[39m): Loading from cache\n",
      "  - Installing \u001b[32mpsr/event-dispatcher\u001b[39m (\u001b[33m1.0.0\u001b[39m): Loading from cache\n",
      "  - Installing \u001b[32msymfony/event-dispatcher-contracts\u001b[39m (\u001b[33mv2.2.0\u001b[39m): Loading from cache\n",
      "  - Installing \u001b[32msymfony/event-dispatcher\u001b[39m (\u001b[33mv5.1.5\u001b[39m): Loading from cache\n",
      "  - Installing \u001b[32msymfony/css-selector\u001b[39m (\u001b[33mv5.1.5\u001b[39m): Loading from cache\n",
      "  - Installing \u001b[32msymfony/polyfill-mbstring\u001b[39m (\u001b[33mv1.18.1\u001b[39m): Loading from cache\n",
      "  - Installing \u001b[32msymfony/polyfill-intl-normalizer\u001b[39m (\u001b[33mv1.18.1\u001b[39m): Loading from cache\n",
      "  - Installing \u001b[32msymfony/polyfill-intl-grapheme\u001b[39m (\u001b[33mv1.18.1\u001b[39m): Loading from cache\n",
      "  - Installing \u001b[32msymfony/string\u001b[39m (\u001b[33mv5.1.5\u001b[39m): Loading from cache\n",
      "  - Installing \u001b[32mpsr/container\u001b[39m (\u001b[33m1.0.0\u001b[39m): Loading from cache\n",
      "  - Installing \u001b[32msymfony/service-contracts\u001b[39m (\u001b[33mv2.2.0\u001b[39m): Loading from cache\n",
      "  - Installing \u001b[32msymfony/polyfill-php73\u001b[39m (\u001b[33mv1.18.1\u001b[39m): Loading from cache\n",
      "  - Installing \u001b[32msymfony/console\u001b[39m (\u001b[33mv5.1.5\u001b[39m): Loading from cache\n",
      "  - Installing \u001b[32mralouphie/getallheaders\u001b[39m (\u001b[33m3.0.3\u001b[39m): Loading from cache\n",
      "  - Installing \u001b[32mpsr/http-message\u001b[39m (\u001b[33m1.0.1\u001b[39m): Loading from cache\n",
      "  - Installing \u001b[32mguzzlehttp/psr7\u001b[39m (\u001b[33m1.6.1\u001b[39m): Loading from cache\n",
      "  - Installing \u001b[32mcodeception/stub\u001b[39m (\u001b[33m3.7.0\u001b[39m): Loading from cache\n",
      "  - Installing \u001b[32mcodeception/codeception\u001b[39m (\u001b[33m4.1.7\u001b[39m): Loading from cache\n",
      "  - Installing \u001b[32mcodeception/module-asserts\u001b[39m (\u001b[33m1.3.1\u001b[39m): Loading from cache\n",
      "  - Installing \u001b[32mcodeception/module-db\u001b[39m (\u001b[33m1.0.2\u001b[39m): Loading from cache\n",
      "  - Installing \u001b[32mcodeception/module-filesystem\u001b[39m (\u001b[33m1.0.3\u001b[39m): Loading from cache\n",
      "  - Installing \u001b[32mpsr/http-client\u001b[39m (\u001b[33m1.0.1\u001b[39m): Loading from cache\n",
      "  - Installing \u001b[32mguzzlehttp/promises\u001b[39m (\u001b[33mv1.3.1\u001b[39m): Loading from cache\n",
      "  - Installing \u001b[32mguzzlehttp/guzzle\u001b[39m (\u001b[33m7.1.0\u001b[39m): Loading from cache\n",
      "  - Installing \u001b[32msymfony/dom-crawler\u001b[39m (\u001b[33mv5.1.5\u001b[39m): Loading from cache\n",
      "  - Installing \u001b[32msymfony/browser-kit\u001b[39m (\u001b[33mv5.1.5\u001b[39m): Loading from cache\n",
      "  - Installing \u001b[32mcodeception/lib-innerbrowser\u001b[39m (\u001b[33m1.3.2\u001b[39m): Loading from cache\n",
      "  - Installing \u001b[32mcodeception/module-phpbrowser\u001b[39m (\u001b[33m1.0.1\u001b[39m): Loading from cache\n",
      "  - Installing \u001b[32mpredis/predis\u001b[39m (\u001b[33mv1.1.6\u001b[39m): Loading from cache\n",
      "  - Installing \u001b[32mcodeception/module-redis\u001b[39m (\u001b[33m1.0.0\u001b[39m): Downloading (\u001b[33mconnecting...\u001b[39mDownloading (\u001b[33m100%\u001b[39m)        \n",
      "sebastian/global-state suggests installing ext-uopz (*)\n",
      "phpunit/php-code-coverage suggests installing ext-pcov (*)\n",
      "phpunit/phpunit suggests installing ext-soap (*)\n",
      "symfony/event-dispatcher suggests installing symfony/dependency-injection\n",
      "symfony/event-dispatcher suggests installing symfony/http-kernel\n",
      "symfony/polyfill-intl-normalizer suggests installing ext-intl (For best performance)\n",
      "symfony/polyfill-intl-grapheme suggests installing ext-intl (For best performance)\n",
      "symfony/service-contracts suggests installing symfony/service-implementation\n",
      "symfony/console suggests installing psr/log (For using the console logger)\n",
      "symfony/console suggests installing symfony/lock\n",
      "symfony/console suggests installing symfony/process\n",
      "guzzlehttp/psr7 suggests installing zendframework/zend-httphandlerrunner (Emit PSR-7 responses)\n",
      "codeception/codeception suggests installing codeception/specify (BDD-style code blocks)\n",
      "codeception/codeception suggests installing codeception/verify (BDD-style assertions)\n",
      "codeception/codeception suggests installing hoa/console (For interactive console functionality)\n",
      "codeception/codeception suggests installing stecman/symfony-console-completion (For BASH autocompletion)\n",
      "codeception/codeception suggests installing symfony/phpunit-bridge (For phpunit-bridge support)\n",
      "guzzlehttp/guzzle suggests installing ext-intl (Required for Internationalized Domain Name (IDN) support)\n",
      "guzzlehttp/guzzle suggests installing psr/log (Required for using the Log middleware)\n",
      "symfony/browser-kit suggests installing symfony/process\n",
      "codeception/module-phpbrowser suggests installing codeception/phpbuiltinserver (Start and stop PHP built-in web server for your tests)\n",
      "predis/predis suggests installing ext-phpiredis (Allows faster serialization and deserialization of the Redis protocol)\n",
      "\u001b[32mGenerating autoload files\u001b[39m\n",
      "\u001b[32m45 packages you are using are looking for funding.\u001b[39m\n",
      "\u001b[32mUse the `composer fund` command to find out more!\u001b[39m\n"
     ]
    },
    {
     "name": "stdout",
     "output_type": "stream",
     "text": [
      "Codeception PHP Testing Framework v4.1.7\n",
      "Powered by PHPUnit 9.3.11 by Sebastian Bergmann and contributors.\n",
      "Running with seed: \n",
      "\n",
      "\n",
      "\u001b[1mAcceptance Tests (5) \u001b[22m-----------------------------------------------------------\n",
      "\u001b[32;1m✔\u001b[39;22m \u001b[35;1mFileStorageCept:\u001b[39;22m  \u001b[32m(0.11s)\u001b[39m\n",
      "\u001b[32;1m✔\u001b[39;22m \u001b[35;1mMySQLStorageCept:\u001b[39;22m  \u001b[32m(0.61s)\u001b[39m\n",
      "\u001b[32;1m✔\u001b[39;22m \u001b[35;1mRedisStorageCept:\u001b[39;22m  \u001b[32m(0.15s)\u001b[39m\n",
      "\u001b[32;1m✔\u001b[39;22m \u001b[35;1mSQLiteStorageCept:\u001b[39;22m  \u001b[32m(0.13s)\u001b[39m\n",
      "\u001b[32;1m✔\u001b[39;22m \u001b[35;1mSessionStorageCept:\u001b[39;22m  \u001b[32m(0.04s)\u001b[39m\n",
      "--------------------------------------------------------------------------------\n",
      "\u001b[33m2x DEPRECATION: \u001b[39m\u001b[1mProperties dbh and driver are deprecated in favor of Db::_getDbh and Db::_getDriver\u001b[22m\u001b[33m \u001b[39m\u001b[32mDb module\u001b[39m\n",
      "\n",
      "\n",
      "Time: 00:01.605, Memory: 12.00 MB\n",
      "\n",
      "\u001b[30;42mOK (5 tests, 126 assertions)\u001b[0m\n"
     ]
    }
   ],
   "source": [
    "! cd tests && composer install && vendor/bin/codecept run"
   ]
  },
  {
   "cell_type": "code",
   "execution_count": 9,
   "metadata": {},
   "outputs": [],
   "source": [
    "phpServer.kill()"
   ]
  },
  {
   "cell_type": "markdown",
   "metadata": {},
   "source": [
    "Stop the databses:"
   ]
  },
  {
   "cell_type": "code",
   "execution_count": 10,
   "metadata": {},
   "outputs": [
    {
     "name": "stdout",
     "output_type": "stream",
     "text": [
      "redis\r\n"
     ]
    }
   ],
   "source": [
    "! docker container stop redis"
   ]
  },
  {
   "cell_type": "code",
   "execution_count": 11,
   "metadata": {},
   "outputs": [
    {
     "name": "stdout",
     "output_type": "stream",
     "text": [
      "mysql\r\n"
     ]
    }
   ],
   "source": [
    "! docker container stop mysql"
   ]
  }
 ],
 "metadata": {
  "kernelspec": {
   "display_name": "Python 3",
   "language": "python",
   "name": "python3"
  },
  "language_info": {
   "codemirror_mode": {
    "name": "ipython",
    "version": 3
   },
   "file_extension": ".py",
   "mimetype": "text/x-python",
   "name": "python",
   "nbconvert_exporter": "python",
   "pygments_lexer": "ipython3",
   "version": "3.8.3"
  }
 },
 "nbformat": 4,
 "nbformat_minor": 4
}
