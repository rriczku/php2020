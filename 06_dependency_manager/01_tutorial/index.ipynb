{
 "cells": [
  {
   "cell_type": "markdown",
   "metadata": {},
   "source": [
    "# PHP 2020"
   ]
  },
  {
   "cell_type": "markdown",
   "metadata": {},
   "source": [
    "## 6. Dependency Manager"
   ]
  },
  {
   "cell_type": "markdown",
   "metadata": {},
   "source": [
    "### 6.1 Tutorial"
   ]
  },
  {
   "cell_type": "markdown",
   "metadata": {},
   "source": [
    "#### Composer"
   ]
  },
  {
   "cell_type": "markdown",
   "metadata": {},
   "source": [
    "Current directory content:"
   ]
  },
  {
   "cell_type": "code",
   "execution_count": 1,
   "metadata": {},
   "outputs": [
    {
     "name": "stdout",
     "output_type": "stream",
     "text": [
      "total 12\r\n",
      "-rw-rw-r-- 1 student student 8809 Nov 25 15:45 index.ipynb\r\n"
     ]
    }
   ],
   "source": [
    "! ls -l"
   ]
  },
  {
   "cell_type": "markdown",
   "metadata": {},
   "source": [
    "Composer version:"
   ]
  },
  {
   "cell_type": "code",
   "execution_count": 2,
   "metadata": {},
   "outputs": [
    {
     "name": "stdout",
     "output_type": "stream",
     "text": [
      "\u001b[32mComposer\u001b[39m version \u001b[33m1.10.13\u001b[39m 2020-09-09 11:46:34\r\n"
     ]
    }
   ],
   "source": [
    "! composer --version"
   ]
  },
  {
   "cell_type": "markdown",
   "metadata": {},
   "source": [
    "Initializing Composer:"
   ]
  },
  {
   "cell_type": "code",
   "execution_count": 4,
   "metadata": {},
   "outputs": [],
   "source": [
    "! composer init --no-interaction \\\n",
    "    --name=\"ddgg/tutorial\" \\\n",
    "    --description=\"Simple tutorial\" \\\n",
    "    --author=\"Damian Gwiżdż <damian.gwizdz@gmail.com>\" \\\n",
    "    --type=\"project\" \\\n",
    "    --stability=\"stable\" \\\n",
    "    --license=\"MIT\""
   ]
  },
  {
   "cell_type": "markdown",
   "metadata": {},
   "source": [
    "This command generated new file:"
   ]
  },
  {
   "cell_type": "code",
   "execution_count": 5,
   "metadata": {},
   "outputs": [
    {
     "name": "stdout",
     "output_type": "stream",
     "text": [
      "total 16\r\n",
      "-rw-r--r-- 1 student student  299 Nov 25 15:48 composer.json\r\n",
      "-rw-rw-r-- 1 student student 8809 Nov 25 15:45 index.ipynb\r\n"
     ]
    }
   ],
   "source": [
    "! ls -l"
   ]
  },
  {
   "cell_type": "markdown",
   "metadata": {},
   "source": [
    "Now open the generated [composer.json](../../../edit/06_dependency_manager/01_tutorial/composer.json)."
   ]
  },
  {
   "cell_type": "markdown",
   "metadata": {},
   "source": [
    "Next run:"
   ]
  },
  {
   "cell_type": "code",
   "execution_count": 6,
   "metadata": {},
   "outputs": [
    {
     "name": "stdout",
     "output_type": "stream",
     "text": [
      "\u001b[32mLoading composer repositories with package information\u001b[39m\n",
      "\u001b[32mUpdating dependencies (including require-dev)\u001b[39m\n",
      "Nothing to install or update\n",
      "\u001b[32mGenerating autoload files\u001b[39m\n"
     ]
    }
   ],
   "source": [
    "! composer install"
   ]
  },
  {
   "cell_type": "markdown",
   "metadata": {},
   "source": [
    "This command creates the [vendor/](../../../tree/06_dependency_manager/01_tutorial/vendor) directory."
   ]
  },
  {
   "cell_type": "code",
   "execution_count": 7,
   "metadata": {},
   "outputs": [
    {
     "name": "stdout",
     "output_type": "stream",
     "text": [
      "total 20\r\n",
      "-rw-r--r-- 1 student student  299 Nov 25 15:48 composer.json\r\n",
      "-rw-rw-r-- 1 student student 8809 Nov 25 15:45 index.ipynb\r\n",
      "drwxr-xr-x 3 student student 4096 Nov 25 15:48 vendor\r\n"
     ]
    }
   ],
   "source": [
    "! ls -l"
   ]
  },
  {
   "cell_type": "markdown",
   "metadata": {},
   "source": [
    "Note that there is an automatically generated autoloader in [vendor/autoload.php](../../../edit/06_dependency_manager/01_tutorial/vendor/autoload.php)!"
   ]
  },
  {
   "cell_type": "markdown",
   "metadata": {},
   "source": [
    "Instal a package:"
   ]
  },
  {
   "cell_type": "code",
   "execution_count": 8,
   "metadata": {},
   "outputs": [
    {
     "name": "stdout",
     "output_type": "stream",
     "text": [
      "Using version \u001b[32m^2.1\u001b[39m for \u001b[32mmonolog/monolog\u001b[39m\n",
      "\u001b[32m./composer.json has been updated\u001b[39m\n",
      "\u001b[32mLoading composer repositories with package information\u001b[39m\n",
      "\u001b[32mUpdating dependencies (including require-dev)\u001b[39m\n",
      "\u001b[32mPackage operations: 2 installs, 0 updates, 0 removals\u001b[39m\n",
      "  - Installing \u001b[32mpsr/log\u001b[39m (\u001b[33m1.1.3\u001b[39m): Downloading (\u001b[33mconnecting...\u001b[39mDownloading (\u001b[33m0%\u001b[39m)          Downloading (\u001b[33m25%\u001b[39mDownloading (\u001b[33m50%\u001b[39mDownloading (\u001b[33m75%\u001b[39mDownloading (\u001b[33m95%\u001b[39mDownloading (\u001b[33m100%\u001b[39m)\n",
      "  - Installing \u001b[32mmonolog/monolog\u001b[39m (\u001b[33m2.1.1\u001b[39m): Downloading (\u001b[33mconnecting...\u001b[39mDownloading (\u001b[33m0%\u001b[39m)          Downloading (\u001b[33m5%\u001b[39Downloading (\u001b[33m10%\u001b[39mDownloading (\u001b[33m15%\u001b[39mDownloading (\u001b[33m20%\u001b[39mDownloading (\u001b[33m25%\u001b[39mDownloading (\u001b[33m30%\u001b[39mDownloading (\u001b[33m35%\u001b[39mDownloading (\u001b[33m40%\u001b[39mDownloading (\u001b[33m45%\u001b[39mDownloading (\u001b[33m50%\u001b[39mDownloading (\u001b[33m55%\u001b[39mDownloading (\u001b[33m60%\u001b[39mDownloading (\u001b[33m65%\u001b[39mDownloading (\u001b[33m70%\u001b[39mDownloading (\u001b[33m75%\u001b[39mDownloading (\u001b[33m80%\u001b[39mDownloading (\u001b[33m85%\u001b[39mDownloading (\u001b[33m90%\u001b[39mDownloading (\u001b[33m95%\u001b[39mDownloading (\u001b[33m100%\u001b[39m)\n",
      "\u001b[32mWriting lock file\u001b[39m\n",
      "\u001b[32mGenerating autoload files\u001b[39m\n",
      "\u001b[32m1 package you are using is looking for funding.\u001b[39m\n",
      "\u001b[32mUse the `composer fund` command to find out more!\u001b[39m\n"
     ]
    }
   ],
   "source": [
    "! composer require monolog/monolog --no-suggest "
   ]
  },
  {
   "cell_type": "markdown",
   "metadata": {},
   "source": [
    "New file is created:"
   ]
  },
  {
   "cell_type": "code",
   "execution_count": 9,
   "metadata": {},
   "outputs": [
    {
     "name": "stdout",
     "output_type": "stream",
     "text": [
      "total 28\r\n",
      "-rw-r--r-- 1 student student  338 Nov 25 15:49 composer.json\r\n",
      "-rw-r--r-- 1 student student 6072 Nov 25 15:49 composer.lock\r\n",
      "-rw-rw-r-- 1 student student 8809 Nov 25 15:45 index.ipynb\r\n",
      "drwxr-xr-x 5 student student 4096 Nov 25 15:49 vendor\r\n"
     ]
    }
   ],
   "source": [
    "! ls -l"
   ]
  },
  {
   "cell_type": "markdown",
   "metadata": {},
   "source": [
    "Now open the generated [composer.lock](../../../edit/06_dependency_manager/01_tutorial/composer.lock). This file contains exact versions of installed packages. \n",
    "\n",
    "The [composer.json](../../../edit/06_dependency_manager/01_tutorial/composer.json) has also changed - it contains new package in the ```require``` section."
   ]
  },
  {
   "cell_type": "markdown",
   "metadata": {},
   "source": [
    "Create and edit [index.php](../../../edit/06_dependency_manager/01_tutorial/index.php) file:"
   ]
  },
  {
   "cell_type": "code",
   "execution_count": 10,
   "metadata": {},
   "outputs": [],
   "source": [
    "! touch index.php"
   ]
  },
  {
   "cell_type": "markdown",
   "metadata": {},
   "source": [
    "Add this code:\n",
    "\n",
    "```php\n",
    "<?php\n",
    "\n",
    "require \"vendor/autoload.php\";\n",
    "    \n",
    "use Monolog\\Logger;\n",
    "use Monolog\\Handler\\StreamHandler;\n",
    "\n",
    "// create a log channel\n",
    "$log = new Logger('name');\n",
    "$log->pushHandler(new StreamHandler('test.log', Logger::WARNING));\n",
    "\n",
    "// add records to the log\n",
    "$log->warning('Foo');\n",
    "$log->error('Bar');\n",
    "```"
   ]
  },
  {
   "cell_type": "markdown",
   "metadata": {},
   "source": [
    "Run the code:"
   ]
  },
  {
   "cell_type": "code",
   "execution_count": null,
   "metadata": {},
   "outputs": [],
   "source": [
    "! php index.php"
   ]
  },
  {
   "cell_type": "markdown",
   "metadata": {},
   "source": [
    "See the directory content:"
   ]
  },
  {
   "cell_type": "code",
   "execution_count": null,
   "metadata": {},
   "outputs": [],
   "source": [
    "! ls -l"
   ]
  },
  {
   "cell_type": "markdown",
   "metadata": {},
   "source": [
    "The file with logs has been created:"
   ]
  },
  {
   "cell_type": "code",
   "execution_count": null,
   "metadata": {},
   "outputs": [],
   "source": [
    "! cat test.log"
   ]
  },
  {
   "cell_type": "markdown",
   "metadata": {},
   "source": [
    "Simulate clean checkout:"
   ]
  },
  {
   "cell_type": "code",
   "execution_count": null,
   "metadata": {},
   "outputs": [],
   "source": [
    "! rm -rf vendor/ test.log"
   ]
  },
  {
   "cell_type": "markdown",
   "metadata": {},
   "source": [
    "Try executing application:"
   ]
  },
  {
   "cell_type": "code",
   "execution_count": null,
   "metadata": {},
   "outputs": [],
   "source": [
    "! php index.php"
   ]
  },
  {
   "cell_type": "markdown",
   "metadata": {},
   "source": [
    "Fix the error by installing packages:"
   ]
  },
  {
   "cell_type": "code",
   "execution_count": null,
   "metadata": {},
   "outputs": [],
   "source": [
    "! composer install --no-suggest"
   ]
  },
  {
   "cell_type": "markdown",
   "metadata": {},
   "source": [
    "Try again:"
   ]
  },
  {
   "cell_type": "code",
   "execution_count": null,
   "metadata": {},
   "outputs": [],
   "source": [
    "! php index.php"
   ]
  },
  {
   "cell_type": "code",
   "execution_count": null,
   "metadata": {},
   "outputs": [],
   "source": [
    "! cat test.log"
   ]
  },
  {
   "cell_type": "markdown",
   "metadata": {},
   "source": [
    "Cleanup:"
   ]
  },
  {
   "cell_type": "code",
   "execution_count": null,
   "metadata": {},
   "outputs": [],
   "source": [
    "! git clean -fdx ."
   ]
  },
  {
   "cell_type": "markdown",
   "metadata": {},
   "source": [
    "#### Redis"
   ]
  },
  {
   "cell_type": "markdown",
   "metadata": {},
   "source": [
    "Check running containers:"
   ]
  },
  {
   "cell_type": "code",
   "execution_count": null,
   "metadata": {},
   "outputs": [],
   "source": [
    "! docker ps"
   ]
  },
  {
   "cell_type": "markdown",
   "metadata": {},
   "source": [
    "Start Redis:"
   ]
  },
  {
   "cell_type": "code",
   "execution_count": null,
   "metadata": {},
   "outputs": [],
   "source": [
    "! docker run --net=host --rm --name redis -d redis"
   ]
  },
  {
   "cell_type": "markdown",
   "metadata": {},
   "source": [
    "Check running containers again:"
   ]
  },
  {
   "cell_type": "code",
   "execution_count": null,
   "metadata": {},
   "outputs": [],
   "source": [
    "! docker ps"
   ]
  },
  {
   "cell_type": "markdown",
   "metadata": {},
   "source": [
    "Wait for port ```6379```:"
   ]
  },
  {
   "cell_type": "code",
   "execution_count": null,
   "metadata": {},
   "outputs": [],
   "source": [
    "! while ! timeout 1 bash -c \"echo > /dev/tcp/localhost/6379\" 2> /dev/null; \\\n",
    "  do \\\n",
    "    echo \"Waiting for Redis...\"; \\\n",
    "    sleep 1; \\\n",
    "  done; \\\n",
    "  echo \"Done.\""
   ]
  },
  {
   "cell_type": "markdown",
   "metadata": {},
   "source": [
    "See Redis logs:"
   ]
  },
  {
   "cell_type": "code",
   "execution_count": null,
   "metadata": {
    "scrolled": true
   },
   "outputs": [],
   "source": [
    "! docker logs redis"
   ]
  },
  {
   "cell_type": "markdown",
   "metadata": {},
   "source": [
    "Stop Redis:"
   ]
  },
  {
   "cell_type": "code",
   "execution_count": null,
   "metadata": {},
   "outputs": [],
   "source": [
    "! docker container stop redis"
   ]
  }
 ],
 "metadata": {
  "kernelspec": {
   "display_name": "Python 3",
   "language": "python",
   "name": "python3"
  },
  "language_info": {
   "codemirror_mode": {
    "name": "ipython",
    "version": 3
   },
   "file_extension": ".py",
   "mimetype": "text/x-python",
   "name": "python",
   "nbconvert_exporter": "python",
   "pygments_lexer": "ipython3",
   "version": "3.8.3"
  }
 },
 "nbformat": 4,
 "nbformat_minor": 4
}
