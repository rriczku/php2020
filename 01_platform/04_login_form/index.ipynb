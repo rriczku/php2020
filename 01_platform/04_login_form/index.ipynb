{
 "cells": [
  {
   "cell_type": "markdown",
   "metadata": {},
   "source": [
    "# PHP 2020"
   ]
  },
  {
   "cell_type": "markdown",
   "metadata": {},
   "source": [
    "## 1. Platform"
   ]
  },
  {
   "cell_type": "markdown",
   "metadata": {},
   "source": [
    "### 1.4. Login Form"
   ]
  },
  {
   "cell_type": "markdown",
   "metadata": {},
   "source": [
    "The page should:\n",
    "\n",
    "1. Display login form\n",
    "2. Return ```EMPTY``` when either field was submitted without data\n",
    "3. Return ```ERROR``` when values are different than ```foo``` for user and ```foo123``` for password.\n",
    "4. Return ```OK``` when correct credentials are used\n",
    "\n",
    "Open PhpStorm to start editing the code:"
   ]
  },
  {
   "cell_type": "code",
   "execution_count": 1,
   "metadata": {},
   "outputs": [
    {
     "name": "stdout",
     "output_type": "stream",
     "text": [
      "OpenJDK 64-Bit Server VM warning: Option UseConcMarkSweepGC was deprecated in version 9.0 and will likely be removed in a future release.\n",
      "^C\n"
     ]
    }
   ],
   "source": [
    "! phpstorm project"
   ]
  },
  {
   "cell_type": "markdown",
   "metadata": {},
   "source": [
    "<img src=\"images/01_start.jpg\"/>\n",
    "<img src=\"images/02_empty.jpg\"/>\n",
    "<img src=\"images/03_go_back.jpg\"/>\n",
    "<img src=\"images/04_login_foo_foo.jpg\"/>\n",
    "<img src=\"images/05_error.jpg\"/>\n",
    "<img src=\"images/06_go_back.jpg\"/>\n",
    "<img src=\"images/07_login_foo_foo123.jpg\"/>\n",
    "<img src=\"images/08_ok_and_exit.jpg\"/>"
   ]
  },
  {
   "cell_type": "markdown",
   "metadata": {},
   "source": [
    "You can test your solution using included tests:"
   ]
  },
  {
   "cell_type": "code",
   "execution_count": 5,
   "metadata": {},
   "outputs": [],
   "source": [
    "import subprocess\n",
    "phpServer = subprocess.Popen(['php', '-S', 'localhost:8888', '-t', 'project/'])"
   ]
  },
  {
   "cell_type": "code",
   "execution_count": 6,
   "metadata": {},
   "outputs": [
    {
     "name": "stdout",
     "output_type": "stream",
     "text": [
      "\u001b[32mLoading composer repositories with package information\u001b[39m\n",
      "\u001b[32mInstalling dependencies (including require-dev) from lock file\u001b[39m\n",
      "Nothing to install or update\n",
      "\u001b[32mGenerating autoload files\u001b[39m\n",
      "\u001b[32m44 packages you are using are looking for funding.\u001b[39m\n",
      "\u001b[32mUse the `composer fund` command to find out more!\u001b[39m\n",
      "Codeception PHP Testing Framework v4.1.7\n",
      "Powered by PHPUnit 9.3.11 by Sebastian Bergmann and contributors.\n",
      "Running with seed: \n",
      "\n",
      "\n",
      "\u001b[1mAcceptance Tests (1) \u001b[22m-----------------------------------------------------------\n",
      "\u001b[32;1m✔\u001b[39;22m \u001b[35;1mLoginFormCept:\u001b[39;22m  \u001b[32m(0.22s)\u001b[39m\n",
      "--------------------------------------------------------------------------------\n",
      "\n",
      "\n",
      "Time: 00:00.393, Memory: 12.00 MB\n",
      "\n",
      "\u001b[30;42mOK (1 test, 4 assertions)\u001b[0m\n"
     ]
    }
   ],
   "source": [
    "! cd tests && composer install && vendor/bin/codecept run"
   ]
  },
  {
   "cell_type": "code",
   "execution_count": 7,
   "metadata": {},
   "outputs": [],
   "source": [
    "phpServer.kill()"
   ]
  },
  {
   "cell_type": "code",
   "execution_count": null,
   "metadata": {},
   "outputs": [],
   "source": []
  },
  {
   "cell_type": "code",
   "execution_count": null,
   "metadata": {},
   "outputs": [],
   "source": []
  },
  {
   "cell_type": "code",
   "execution_count": null,
   "metadata": {},
   "outputs": [],
   "source": []
  }
 ],
 "metadata": {
  "kernelspec": {
   "display_name": "Python 3",
   "language": "python",
   "name": "python3"
  },
  "language_info": {
   "codemirror_mode": {
    "name": "ipython",
    "version": 3
   },
   "file_extension": ".py",
   "mimetype": "text/x-python",
   "name": "python",
   "nbconvert_exporter": "python",
   "pygments_lexer": "ipython3",
   "version": "3.8.3"
  }
 },
 "nbformat": 4,
 "nbformat_minor": 4
}
