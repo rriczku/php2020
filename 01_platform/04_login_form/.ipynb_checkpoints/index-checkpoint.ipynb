{
 "cells": [
  {
   "cell_type": "markdown",
   "metadata": {},
   "source": [
    "# PHP 2020"
   ]
  },
  {
   "cell_type": "markdown",
   "metadata": {},
   "source": [
    "## 1. Platform"
   ]
  },
  {
   "cell_type": "markdown",
   "metadata": {},
   "source": [
    "### 1.4. Login Form"
   ]
  },
  {
   "cell_type": "markdown",
   "metadata": {},
   "source": [
    "The page should:\n",
    "\n",
    "1. Display login form\n",
    "2. Return ```EMPTY``` when either field was submitted without data\n",
    "3. Return ```ERROR``` when values are different than ```foo``` for user and ```foo123``` for password.\n",
    "4. Return ```OK``` when correct credentials are used\n",
    "\n",
    "Open PhpStorm to start editing the code:"
   ]
  },
  {
   "cell_type": "code",
   "execution_count": 1,
   "metadata": {},
   "outputs": [
    {
     "name": "stdout",
     "output_type": "stream",
     "text": [
      "OpenJDK 64-Bit Server VM warning: Option UseConcMarkSweepGC was deprecated in version 9.0 and will likely be removed in a future release.\n",
      "^C\n"
     ]
    }
   ],
   "source": [
    "! phpstorm project"
   ]
  },
  {
   "cell_type": "markdown",
   "metadata": {},
   "source": [
    "<img src=\"images/01_start.jpg\"/>\n",
    "<img src=\"images/02_empty.jpg\"/>\n",
    "<img src=\"images/03_go_back.jpg\"/>\n",
    "<img src=\"images/04_login_foo_foo.jpg\"/>\n",
    "<img src=\"images/05_error.jpg\"/>\n",
    "<img src=\"images/06_go_back.jpg\"/>\n",
    "<img src=\"images/07_login_foo_foo123.jpg\"/>\n",
    "<img src=\"images/08_ok_and_exit.jpg\"/>"
   ]
  },
  {
   "cell_type": "markdown",
   "metadata": {},
   "source": [
    "You can test your solution using included tests:"
   ]
  },
  {
   "cell_type": "code",
   "execution_count": 2,
   "metadata": {},
   "outputs": [],
   "source": [
    "import subprocess\n",
    "phpServer = subprocess.Popen(['php', '-S', 'localhost:8888', '-t', 'project/'])"
   ]
  },
  {
   "cell_type": "code",
   "execution_count": null,
   "metadata": {},
   "outputs": [
    {
     "name": "stdout",
     "output_type": "stream",
     "text": [
      "\u001b[32mLoading composer repositories with package information\u001b[39m\n",
      "\u001b[32mInstalling dependencies (including require-dev) from lock file\u001b[39m\n",
      "\u001b[32mPackage operations: 66 installs, 0 updates, 0 removals\u001b[39m\n",
      "  - Installing \u001b[32mbehat/gherkin\u001b[39m (\u001b[33mv4.6.2\u001b[39m): Downloading (\u001b[33mconnecting...\u001b[39mDownloading (\u001b[33m0%\u001b[39m)          Downloading (\u001b[33m5%\u001b[39Downloading (\u001b[33m10%\u001b[39mDownloading (\u001b[33m15%\u001b[39mDownloading (\u001b[33m20%\u001b[39mDownloading (\u001b[33m25%\u001b[39mDownloading (\u001b[33m30%\u001b[39mDownloading (\u001b[33m35%\u001b[39mDownloading (\u001b[33m40%\u001b[39mDownloading (\u001b[33m45%\u001b[39mDownloading (\u001b[33m50%\u001b[39mDownloading (\u001b[33m55%\u001b[39mDownloading (\u001b[33m60%\u001b[39mDownloading (\u001b[33m65%\u001b[39mDownloading (\u001b[33m70%\u001b[39mDownloading (\u001b[33m75%\u001b[39mDownloading (\u001b[33m80%\u001b[39mDownloading (\u001b[33m85%\u001b[39mDownloading (\u001b[33m90%\u001b[39mDownloading (\u001b[33m95%\u001b[39mDownloading (\u001b[33m100%\u001b[39m)\n",
      "  - Installing \u001b[32msebastian/version\u001b[39m (\u001b[33m3.0.1\u001b[39m): Downloading (\u001b[33mconnecting...\u001b[39mDownloading (\u001b[33m0%\u001b[39m)          Downloading (\u001b[33m100%\u001b[39m)\n",
      "  - Installing \u001b[32msebastian/type\u001b[39m (\u001b[33m2.2.1\u001b[39m): Downloading (\u001b[33mconnecting...\u001b[39mDownloading (\u001b[33m0%\u001b[39m)          Downloading (\u001b[33m35%\u001b[39mDownloading (\u001b[33m80%\u001b[39mDownloading (\u001b[33m100%\u001b[39m)\n",
      "  - Installing \u001b[32msebastian/resource-operations\u001b[39m (\u001b[33m3.0.2\u001b[39m): Downloading (\u001b[33mconnecting...\u001b[39mDownloading (\u001b[33m0%\u001b[39m)          Downloading (\u001b[33m40%\u001b[39mDownloading (\u001b[33m55%\u001b[39mDownloading (\u001b[33m95%\u001b[39mDownloading (\u001b[33m100%\u001b[39m)\n",
      "  - Installing \u001b[32msebastian/recursion-context\u001b[39m (\u001b[33m4.0.2\u001b[39m): Downloading (\u001b[33mconnecting...\u001b[39mDownloading (\u001b[33m0%\u001b[39m)          Downloading (\u001b[33m100%\u001b[39m)\n",
      "  - Installing \u001b[32msebastian/object-reflector\u001b[39m (\u001b[33m2.0.2\u001b[39m): Downloading (\u001b[33mconnecting...\u001b[39mDownloading (\u001b[33m0%\u001b[39m)          Downloading (\u001b[33m90%\u001b[39mDownloading (\u001b[33m100%\u001b[39m)\n",
      "  - Installing \u001b[32msebastian/object-enumerator\u001b[39m (\u001b[33m4.0.2\u001b[39m): Downloading (\u001b[33mconnecting...\u001b[39mDownloading (\u001b[33m0%\u001b[39m)          Downloading (\u001b[33m100%\u001b[39m)\n",
      "  - Installing \u001b[32msebastian/global-state\u001b[39m (\u001b[33m5.0.0\u001b[39m): Downloading (\u001b[33mconnecting...\u001b[39mDownloading (\u001b[33m0%\u001b[39m)          Downloading (\u001b[33m65%\u001b[39mDownloading (\u001b[33m90%\u001b[39mDownloading (\u001b[33m95%\u001b[39mDownloading (\u001b[33m100%\u001b[39m)\n",
      "  - Installing \u001b[32msebastian/exporter\u001b[39m (\u001b[33m4.0.2\u001b[39m): Downloading (\u001b[33mconnecting...\u001b[39mDownloading (\u001b[33m0%\u001b[39m)          Downloading (\u001b[33m100%\u001b[39m)\n",
      "  - Installing \u001b[32msebastian/environment\u001b[39m (\u001b[33m5.1.2\u001b[39m): Downloading (\u001b[33mconnecting...\u001b[39mDownloading (\u001b[33m0%\u001b[39m)          Downloading (\u001b[33m85%\u001b[39mDownloading (\u001b[33m100%\u001b[39m)\n",
      "  - Installing \u001b[32msebastian/diff\u001b[39m (\u001b[33m4.0.2\u001b[39m): Downloading (\u001b[33mconnecting...\u001b[39mDownloading (\u001b[33m0%\u001b[39m)          Downloading (\u001b[33m40%\u001b[39mDownloading (\u001b[33m75%\u001b[39mDownloading (\u001b[33m80%\u001b[39mDownloading (\u001b[33m100%\u001b[39m)\n",
      "  - Installing \u001b[32msebastian/comparator\u001b[39m (\u001b[33m4.0.3\u001b[39m): Downloading (\u001b[33mconnecting...\u001b[39mDownloading (\u001b[33m0%\u001b[39m)          Downloading (\u001b[33m25%\u001b[39mDownloading (\u001b[33m50%\u001b[39mDownloading (\u001b[33m100%\u001b[39m)\n",
      "  - Installing \u001b[32msebastian/code-unit\u001b[39m (\u001b[33m1.0.5\u001b[39m): Downloading (\u001b[33mconnecting...\u001b[39mDownloading (\u001b[33m0%\u001b[39m)          Downloading (\u001b[33m55%\u001b[39mDownloading (\u001b[33m65%\u001b[39mDownloading (\u001b[33m100%\u001b[39m)\n",
      "  - Installing \u001b[32msebastian/cli-parser\u001b[39m (\u001b[33m1.0.0\u001b[39m): Downloading (\u001b[33mconnecting...\u001b[39mDownloading (\u001b[33m0%\u001b[39m)          Downloading (\u001b[33m35%\u001b[39mDownloading (\u001b[33m100%\u001b[39m)\n",
      "  - Installing \u001b[32mphpunit/php-timer\u001b[39m (\u001b[33m5.0.1\u001b[39m): Downloading (\u001b[33mconnecting...\u001b[39mDownloading (\u001b[33m100%\u001b[39m)        \n",
      "  - Installing \u001b[32mphpunit/php-text-template\u001b[39m (\u001b[33m2.0.2\u001b[39m): Downloading (\u001b[33mconnecting...\u001b[39mDownloading (\u001b[33m0%\u001b[39m)          Downloading (\u001b[33m100%\u001b[39m)\n",
      "  - Installing \u001b[32mphpunit/php-invoker\u001b[39m (\u001b[33m3.1.0\u001b[39m): Downloading (\u001b[33mconnecting...\u001b[39mDownloading (\u001b[33m0%\u001b[39m)          Downloading (\u001b[33m85%\u001b[39mDownloading (\u001b[33m100%\u001b[39m)\n",
      "  - Installing \u001b[32mphpunit/php-file-iterator\u001b[39m (\u001b[33m3.0.4\u001b[39m): Downloading (\u001b[33mconnecting...\u001b[39mDownloading (\u001b[33m0%\u001b[39m)          Downloading (\u001b[33m55%\u001b[39mDownloading (\u001b[33m100%\u001b[39m)\n",
      "  - Installing \u001b[32mtheseer/tokenizer\u001b[39m (\u001b[33m1.2.0\u001b[39m): Downloading (\u001b[33mconnecting...\u001b[39mDownloading (\u001b[33m0%\u001b[39m)          Downloading (\u001b[33m65%\u001b[39mDownloading (\u001b[33m95%\u001b[39mDownloading (\u001b[33m100%\u001b[39m)\n",
      "  - Installing \u001b[32mnikic/php-parser\u001b[39m (\u001b[33mv4.10.1\u001b[39m): Downloading (\u001b[33mconnecting...\u001b[39mDownloading (\u001b[33m0%\u001b[39m)          Downloading (\u001b[33m5%\u001b[39Downloading (\u001b[33m10%\u001b[39mDownloading (\u001b[33m15%\u001b[39mDownloading (\u001b[33m20%\u001b[39mDownloading (\u001b[33m25%\u001b[39mDownloading (\u001b[33m30%\u001b[39mDownloading (\u001b[33m35%\u001b[39mDownloading (\u001b[33m40%\u001b[39mDownloading (\u001b[33m45%\u001b[39mDownloading (\u001b[33m50%\u001b[39mDownloading (\u001b[33m55%\u001b[39mDownloading (\u001b[33m60%\u001b[39mDownloading (\u001b[33m65%\u001b[39mDownloading (\u001b[33m70%\u001b[39mDownloading (\u001b[33m75%\u001b[39mDownloading (\u001b[33m80%\u001b[39mDownloading (\u001b[33m85%\u001b[39mDownloading (\u001b[33m90%\u001b[39mDownloading (\u001b[33m95%\u001b[39mDownloading (\u001b[33m100%\u001b[39m)\n",
      "  - Installing \u001b[32msebastian/lines-of-code\u001b[39m (\u001b[33m1.0.0\u001b[39m): Downloading (\u001b[33mconnecting...\u001b[39mDownloading (\u001b[33m0%\u001b[39m)          Downloading (\u001b[33m85%\u001b[39mDownloading (\u001b[33m100%\u001b[39m)\n",
      "  - Installing \u001b[32msebastian/complexity\u001b[39m (\u001b[33m2.0.0\u001b[39m): Downloading (\u001b[33mconnecting...\u001b[39mDownloading (\u001b[33m0%\u001b[39m)          Downloading (\u001b[33m70%\u001b[39mDownloading (\u001b[33m100%\u001b[39m)\n",
      "  - Installing \u001b[32msebastian/code-unit-reverse-lookup\u001b[39m (\u001b[33m2.0.2\u001b[39m): Downloading (\u001b[33mconnecting...\u001b[39mDownloading (\u001b[33m0%\u001b[39m)          Downloading (\u001b[33m55%\u001b[39mDownloading (\u001b[33m100%\u001b[39m)\n",
      "  - Installing \u001b[32mphpunit/php-code-coverage\u001b[39m (\u001b[33m9.1.11\u001b[39m): Downloading (\u001b[33mconnecting...\u001b[39mDownloading (\u001b[33m0%\u001b[39m)        Downloading (\u001b[33m5%\u001b[39Downloading (\u001b[33m10%\u001b[39mDownloading (\u001b[33m15%\u001b[39mDownloading (\u001b[33m20%\u001b[39mDownloading (\u001b[33m25%\u001b[39mDownloading (\u001b[33m30%\u001b[39mDownloading (\u001b[33m35%\u001b[39mDownloading (\u001b[33m40%\u001b[39mDownloading (\u001b[33m45%\u001b[39mDownloading (\u001b[33m50%\u001b[39mDownloading (\u001b[33m55%\u001b[39mDownloading (\u001b[33m60%\u001b[39mDownloading (\u001b[33m65%\u001b[39mDownloading (\u001b[33m70%\u001b[39mDownloading (\u001b[33m75%\u001b[39mDownloading (\u001b[33m80%\u001b[39mDownloading (\u001b[33m85%\u001b[39mDownloading (\u001b[33m90%\u001b[39mDownloading (\u001b[33m95%\u001b[39mDownloading (\u001b[33m100%\u001b[39m)\n",
      "  - Installing \u001b[32msymfony/polyfill-ctype\u001b[39m (\u001b[33mv1.18.1\u001b[39m): Downloading (\u001b[33mconnecting...\u001b[39mDownloading (\u001b[33m0%\u001b[39m)          Downloading (\u001b[33m100%\u001b[39m)\n",
      "  - Installing \u001b[32mwebmozart/assert\u001b[39m (\u001b[33m1.9.1\u001b[39m): Downloading (\u001b[33mconnecting...\u001b[39mDownloading (\u001b[33m0%\u001b[39m)        Downloading (\u001b[33m65%\u001b[39mDownloading (\u001b[33m100%\u001b[39m)\n",
      "  - Installing \u001b[32mphpdocumentor/reflection-common\u001b[39m (\u001b[33m2.2.0\u001b[39m): Downloading (\u001b[33mconnecting...\u001b[39mDownloading (\u001b[33m0%\u001b[39m)          Downloading (\u001b[33m50%\u001b[39mDownloading (\u001b[33m100%\u001b[39m)\n",
      "  - Installing \u001b[32mphpdocumentor/type-resolver\u001b[39m (\u001b[33m1.4.0\u001b[39m): Downloading (\u001b[33mconnecting...\u001b[39mDownloading (\u001b[33m0%\u001b[39m)          Downloading (\u001b[33m15%\u001b[39mDownloading (\u001b[33m30%\u001b[39mDownloading (\u001b[33m65%\u001b[39mDownloading (\u001b[33m80%\u001b[39mDownloading (\u001b[33m95%\u001b[39mDownloading (\u001b[33m100%\u001b[39m)\n",
      "  - Installing \u001b[32mphpdocumentor/reflection-docblock\u001b[39m (\u001b[33m5.2.2\u001b[39m): Downloading (\u001b[33mconnecting...\u001b[39mDownloading (\u001b[33m0%\u001b[39m)          Downloading (\u001b[33m5%\u001b[39Downloading (\u001b[33m30%\u001b[39mDownloading (\u001b[33m35%\u001b[39mDownloading (\u001b[33m40%\u001b[39mDownloading (\u001b[33m65%\u001b[39mDownloading (\u001b[33m70%\u001b[39mDownloading (\u001b[33m75%\u001b[39mDownloading (\u001b[33m100%\u001b[39m)\n",
      "  - Installing \u001b[32mdoctrine/instantiator\u001b[39m (\u001b[33m1.3.1\u001b[39m): Downloading (\u001b[33mconnecting...\u001b[39mDownloading (\u001b[33m0%\u001b[39m)          Downloading (\u001b[33m45%\u001b[39mDownloading (\u001b[33m95%\u001b[39mDownloading (\u001b[33m100%\u001b[39m)\n",
      "  - Installing \u001b[32mphpspec/prophecy\u001b[39m (\u001b[33m1.11.1\u001b[39m): Downloading (\u001b[33mconnecting...\u001b[39mDownloading (\u001b[33m0%\u001b[39m)          Downloading (\u001b[33m10%\u001b[39mDownloading (\u001b[33m20%\u001b[39mDownloading (\u001b[33m25%\u001b[39mDownloading (\u001b[33m30%\u001b[39mDownloading (\u001b[33m35%\u001b[39mDownloading (\u001b[33m40%\u001b[39mDownloading (\u001b[33m45%\u001b[39mDownloading (\u001b[33m55%\u001b[39mDownloading (\u001b[33m65%\u001b[39mDownloading (\u001b[33m75%\u001b[39mDownloading (\u001b[33m85%\u001b[39mDownloading (\u001b[33m90%\u001b[39mDownloading (\u001b[33m95%\u001b[39mDownloading (\u001b[33m100%\u001b[39m)\n"
     ]
    },
    {
     "name": "stdout",
     "output_type": "stream",
     "text": [
      "  - Installing \u001b[32mphar-io/version\u001b[39m (\u001b[33m3.0.2\u001b[39m): Downloading (\u001b[33mconnecting...\u001b[39mDownloading (\u001b[33m0%\u001b[39m)          Downloading (\u001b[33m25%\u001b[39mDownloading (\u001b[33m50%\u001b[39mDownloading (\u001b[33m75%\u001b[39mDownloading (\u001b[33m100%\u001b[39m)\n",
      "  - Installing \u001b[32mphar-io/manifest\u001b[39m (\u001b[33m2.0.1\u001b[39m): Downloading (\u001b[33mconnecting...\u001b[39mDownloading (\u001b[33m0%\u001b[39m)          Downloading (\u001b[33m15%\u001b[39mDownloading (\u001b[33m30%\u001b[39mDownloading (\u001b[33m45%\u001b[39mDownloading (\u001b[33m90%\u001b[39mDownloading (\u001b[33m100%\u001b[39m)\n",
      "  - Installing \u001b[32mmyclabs/deep-copy\u001b[39m (\u001b[33m1.10.1\u001b[39m): Downloading (\u001b[33mconnecting...\u001b[39mDownloading (\u001b[33m0%\u001b[39m)          Downloading (\u001b[33m25%\u001b[39mDownloading (\u001b[33m50%\u001b[39mDownloading (\u001b[33m95%\u001b[39mDownloading (\u001b[33m100%\u001b[39m)\n",
      "  - Installing \u001b[32mphpunit/phpunit\u001b[39m (\u001b[33m9.3.11\u001b[39m): Downloading (\u001b[33mconnecting...\u001b[39mDownloading (\u001b[33m0%\u001b[39m)        Downloading (\u001b[33m5%\u001b[39Downloading (\u001b[33m10%\u001b[39mDownloading (\u001b[33m15%\u001b[39mDownloading (\u001b[33m20%\u001b[39mDownloading (\u001b[33m25%\u001b[39mDownloading (\u001b[33m30%\u001b[39mDownloading (\u001b[33m35%\u001b[39mDownloading (\u001b[33m40%\u001b[39mDownloading (\u001b[33m45%\u001b[39mDownloading (\u001b[33m50%\u001b[39mDownloading (\u001b[33m55%\u001b[39mDownloading (\u001b[33m60%\u001b[39mDownloading (\u001b[33m65%\u001b[39mDownloading (\u001b[33m70%\u001b[39mDownloading (\u001b[33m75%\u001b[39mDownloading (\u001b[33m80%\u001b[39mDownloading (\u001b[33m85%\u001b[39mDownloading (\u001b[33m90%\u001b[39mDownloading (\u001b[33m95%\u001b[39mDownloading (\u001b[33m100%\u001b[39m)\n",
      "  - Installing \u001b[32mcodeception/phpunit-wrapper\u001b[39m (\u001b[33m9.0.4\u001b[39m): Downloading (\u001b[33mconnecting...\u001b[39mDownloading (\u001b[33m0%\u001b[39m)          Downloading (\u001b[33m15%\u001b[39mDownloading (\u001b[33m25%\u001b[39mDownloading (\u001b[33m40%\u001b[39mDownloading (\u001b[33m55%\u001b[39mDownloading (\u001b[33m65%\u001b[39mDownloading (\u001b[33m80%\u001b[39mDownloading (\u001b[33m100%\u001b[39m)\n",
      "  - Installing \u001b[32mcodeception/lib-asserts\u001b[39m (\u001b[33m1.13.1\u001b[39m): Downloading (\u001b[33mconnecting...\u001b[39mDownloading (\u001b[33m0%\u001b[39m)          Downloading (\u001b[33m90%\u001b[39mDownloading (\u001b[33m100%\u001b[39m)\n",
      "  - Installing \u001b[32msymfony/deprecation-contracts\u001b[39m (\u001b[33mv2.2.0\u001b[39m): Downloading (\u001b[33mconnecting...\u001b[39mDownloading (\u001b[33m0%\u001b[39m)          Downloading (\u001b[33m85%\u001b[39mDownloading (\u001b[33m100%\u001b[39m)\n",
      "  - Installing \u001b[32msymfony/yaml\u001b[39m (\u001b[33mv5.1.5\u001b[39m): Downloading (\u001b[33mconnecting...\u001b[39mDownloading (\u001b[33m0%\u001b[39m)          Downloading (\u001b[33m25%\u001b[39mDownloading (\u001b[33m45%\u001b[39mDownloading (\u001b[33m70%\u001b[39mDownloading (\u001b[33m95%\u001b[39mDownloading (\u001b[33m100%\u001b[39m)\n",
      "  - Installing \u001b[32msymfony/finder\u001b[39m (\u001b[33mv5.1.5\u001b[39m): Downloading (\u001b[33mconnecting...\u001b[39mDownloading (\u001b[33m0%\u001b[39m)          Downloading (\u001b[33m5%\u001b[39Downloading (\u001b[33m10%\u001b[39mDownloading (\u001b[33m15%\u001b[39mDownloading (\u001b[33m20%\u001b[39mDownloading (\u001b[33m25%\u001b[39mDownloading (\u001b[33m30%\u001b[39mDownloading (\u001b[33m35%\u001b[39mDownloading (\u001b[33m40%\u001b[39mDownloading (\u001b[33m45%\u001b[39mDownloading (\u001b[33m50%\u001b[39mDownloading (\u001b[33m55%\u001b[39mDownloading (\u001b[33m60%\u001b[39mDownloading (\u001b[33m65%\u001b[39mDownloading (\u001b[33m70%\u001b[39mDownloading (\u001b[33m75%\u001b[39mDownloading (\u001b[33m80%\u001b[39mDownloading (\u001b[33m85%\u001b[39mDownloading (\u001b[33m90%\u001b[39mDownloading (\u001b[33m95%\u001b[39mDownloading (\u001b[33m100%\u001b[39m)\n",
      "  - Installing \u001b[32msymfony/polyfill-php80\u001b[39m (\u001b[33mv1.18.1\u001b[39m): Downloading (\u001b[33mconnecting...\u001b[39mDownloading (\u001b[33m0%\u001b[39m)          Downloading (\u001b[33m25%\u001b[39mDownloading (\u001b[33m50%\u001b[39mDownloading (\u001b[33m90%\u001b[39mDownloading (\u001b[33m100%\u001b[39m)\n",
      "  - Installing \u001b[32mpsr/event-dispatcher\u001b[39m (\u001b[33m1.0.0\u001b[39m): Downloading (\u001b[33mconnecting...\u001b[39mDownloading (\u001b[33m0%\u001b[39m)        Downloading (\u001b[33m100%\u001b[39m)\n",
      "  - Installing \u001b[32msymfony/event-dispatcher-contracts\u001b[39m (\u001b[33mv2.2.0\u001b[39m): Downloading (\u001b[33mconnecting...\u001b[39mDownloading (\u001b[33m0%\u001b[39m)          Downloading (\u001b[33m100%\u001b[39m)\n",
      "  - Installing \u001b[32msymfony/event-dispatcher\u001b[39m (\u001b[33mv5.1.5\u001b[39m): Downloading (\u001b[33mconnecting...\u001b[39mDownloading (\u001b[33m0%\u001b[39m)          Downloading (\u001b[33m55%\u001b[39mDownloading (\u001b[33m70%\u001b[39mDownloading (\u001b[33m100%\u001b[39m)\n",
      "  - Installing \u001b[32msymfony/css-selector\u001b[39m (\u001b[33mv5.1.5\u001b[39m): Downloading (\u001b[33mconnecting...\u001b[39mDownloading (\u001b[33m0%\u001b[39m)          Downloading (\u001b[33m5%\u001b[39Downloading (\u001b[33m30%\u001b[39mDownloading (\u001b[33m35%\u001b[39mDownloading (\u001b[33m40%\u001b[39mDownloading (\u001b[33m65%\u001b[39mDownloading (\u001b[33m70%\u001b[39mDownloading (\u001b[33m75%\u001b[39mDownloading (\u001b[33m100%\u001b[39m)\n",
      "  - Installing \u001b[32msymfony/polyfill-mbstring\u001b[39m (\u001b[33mv1.18.1\u001b[39m): Downloading (\u001b[33mconnecting...\u001b[39mDownloading (\u001b[33m0%\u001b[39m)          Downloading (\u001b[33m5%\u001b[39Downloading (\u001b[33m10%\u001b[39mDownloading (\u001b[33m100%\u001b[39m)\n",
      "  - Installing \u001b[32msymfony/polyfill-intl-normalizer\u001b[39m (\u001b[33mv1.18.1\u001b[39m): Downloading (\u001b[33mconnecting...\u001b[39mDownloading (\u001b[33m0%\u001b[39m)          Downloading (\u001b[33m10%\u001b[39mDownloading (\u001b[33m20%\u001b[39mDownloading (\u001b[33m45%\u001b[39mDownloading (\u001b[33m55%\u001b[39mDownloading (\u001b[33m65%\u001b[39mDownloading (\u001b[33m75%\u001b[39mDownloading (\u001b[33m100%\u001b[39m)\n",
      "  - Installing \u001b[32msymfony/polyfill-intl-grapheme\u001b[39m (\u001b[33mv1.18.1\u001b[39m): Downloading (\u001b[33mconnecting...\u001b[39mDownloading (\u001b[33m0%\u001b[39m)          Downloading (\u001b[33m85%\u001b[39mDownloading (\u001b[33m100%\u001b[39m)\n",
      "  - Installing \u001b[32msymfony/string\u001b[39m (\u001b[33mv5.1.5\u001b[39m): Downloading (\u001b[33mconnecting...\u001b[39mDownloading (\u001b[33m0%\u001b[39m)          Downloading (\u001b[33m25%\u001b[39mDownloading (\u001b[33m50%\u001b[39mDownloading (\u001b[33m75%\u001b[39mDownloading (\u001b[33m100%\u001b[39m)\n",
      "  - Installing \u001b[32mpsr/container\u001b[39m (\u001b[33m1.0.0\u001b[39m): Downloading (\u001b[33mconnecting...\u001b[39mDownloading (\u001b[33m0%\u001b[39m)          Downloading (\u001b[33m75%\u001b[39mDownloading (\u001b[33m85%\u001b[39mDownloading (\u001b[33m100%\u001b[39m)\n",
      "  - Installing \u001b[32msymfony/service-contracts\u001b[39m (\u001b[33mv2.2.0\u001b[39m): Downloading (\u001b[33mconnecting...\u001b[39mDownloading (\u001b[33m0%\u001b[39m)          Downloading (\u001b[33m100%\u001b[39m)\n",
      "  - Installing \u001b[32msymfony/polyfill-php73\u001b[39m (\u001b[33mv1.18.1\u001b[39m): Downloading (\u001b[33mconnecting...\u001b[39mDownloading (\u001b[33m0%\u001b[39m)          Downloading (\u001b[33m65%\u001b[39mDownloading (\u001b[33m100%\u001b[39m)\n",
      "  - Installing \u001b[32msymfony/console\u001b[39m (\u001b[33mv5.1.5\u001b[39m): Downloading (\u001b[33mconnecting...\u001b[39mDownloading (\u001b[33m0%\u001b[39m)          Downloading (\u001b[33m5%\u001b[39Downloading (\u001b[33m10%\u001b[39mDownloading (\u001b[33m15%\u001b[39mDownloading (\u001b[33m20%\u001b[39mDownloading (\u001b[33m25%\u001b[39mDownloading (\u001b[33m30%\u001b[39mDownloading (\u001b[33m35%\u001b[39mDownloading (\u001b[33m40%\u001b[39mDownloading (\u001b[33m45%\u001b[39mDownloading (\u001b[33m50%\u001b[39mDownloading (\u001b[33m55%\u001b[39mDownloading (\u001b[33m60%\u001b[39mDownloading (\u001b[33m65%\u001b[39mDownloading (\u001b[33m70%\u001b[39mDownloading (\u001b[33m75%\u001b[39mDownloading (\u001b[33m80%\u001b[39mDownloading (\u001b[33m85%\u001b[39mDownloading (\u001b[33m90%\u001b[39mDownloading (\u001b[33m95%\u001b[39mDownloading (\u001b[33m100%\u001b[39m)\n",
      "  - Installing \u001b[32mralouphie/getallheaders\u001b[39m (\u001b[33m3.0.3\u001b[39m): Downloading (\u001b[33mconnecting...\u001b[39mDownloading (\u001b[33m0%\u001b[39m)          Downloading (\u001b[33m100%\u001b[39m)\n",
      "  - Installing \u001b[32mpsr/http-message\u001b[39m (\u001b[33m1.0.1\u001b[39m): Downloading (\u001b[33mconnecting...\u001b[39mDownloading (\u001b[33m0%\u001b[39m)          Downloading (\u001b[33m65%\u001b[39mDownloading (\u001b[33m100%\u001b[39m)\n",
      "  - Installing \u001b[32mguzzlehttp/psr7\u001b[39m (\u001b[33m1.6.1\u001b[39m): Downloading (\u001b[33mconnecting...\u001b[39mDownloading (\u001b[33m0%\u001b[39m)          Downloading (\u001b[33m5%\u001b[39Downloading (\u001b[33m10%\u001b[39mDownloading (\u001b[33m45%\u001b[39mDownloading (\u001b[33m50%\u001b[39mDownloading (\u001b[33m55%\u001b[39mDownloading (\u001b[33m60%\u001b[39mDownloading (\u001b[33m95%\u001b[39mDownloading (\u001b[33m100%\u001b[39m)\n",
      "  - Installing \u001b[32mcodeception/stub\u001b[39m (\u001b[33m3.7.0\u001b[39m): Downloading (\u001b[33mconnecting...\u001b[39m)"
     ]
    }
   ],
   "source": [
    "! cd tests && composer install && vendor/bin/codecept run"
   ]
  },
  {
   "cell_type": "code",
   "execution_count": null,
   "metadata": {},
   "outputs": [],
   "source": [
    "phpServer.kill()"
   ]
  },
  {
   "cell_type": "code",
   "execution_count": null,
   "metadata": {},
   "outputs": [],
   "source": []
  },
  {
   "cell_type": "code",
   "execution_count": null,
   "metadata": {},
   "outputs": [],
   "source": []
  },
  {
   "cell_type": "code",
   "execution_count": null,
   "metadata": {},
   "outputs": [],
   "source": []
  }
 ],
 "metadata": {
  "kernelspec": {
   "display_name": "Python 3",
   "language": "python",
   "name": "python3"
  },
  "language_info": {
   "codemirror_mode": {
    "name": "ipython",
    "version": 3
   },
   "file_extension": ".py",
   "mimetype": "text/x-python",
   "name": "python",
   "nbconvert_exporter": "python",
   "pygments_lexer": "ipython3",
   "version": "3.8.3"
  }
 },
 "nbformat": 4,
 "nbformat_minor": 4
}
