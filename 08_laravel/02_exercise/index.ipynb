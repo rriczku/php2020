{
 "cells": [
  {
   "cell_type": "markdown",
   "metadata": {},
   "source": [
    "# PHP 2020"
   ]
  },
  {
   "cell_type": "markdown",
   "metadata": {},
   "source": [
    "## 8. Laravel"
   ]
  },
  {
   "cell_type": "markdown",
   "metadata": {},
   "source": [
    "### 8.2 Exercise"
   ]
  },
  {
   "cell_type": "markdown",
   "metadata": {},
   "source": [
    "Tasks:\n",
    "\n",
    "- Create new Laravel project in ```project``` directory and bootstrap ```Codeception``` tests in the ```tests_codeception``` directory (follow the tutorial)\n",
    "- Add below test in ```tests_codeception/acceptance/CommentsCept.php``` and make it pass by changing Laravel project:\n",
    "\n",
    "```php\n",
    "    <?php\n",
    "    $I = new AcceptanceTester($scenario);\n",
    "    $I->wantTo('see comments from DB displayed on page');\n",
    "\n",
    "    $I->seeNumRecords(0, \"comments\");\n",
    "\n",
    "    $randomNumber = rand();\n",
    "\n",
    "    $title = \"Title $randomNumber\";\n",
    "    $text = \"Some text $randomNumber\";\n",
    "\n",
    "    $id = $I->haveInDatabase('comments', ['title' => $title, 'text' => $text]);\n",
    "\n",
    "    $I->amOnPage('/comments');\n",
    "    $I->seeLink($title, \"/comments/$id\");\n",
    "\n",
    "    $I->click($title);\n",
    "    $I->seeCurrentUrlEquals(\"/comments/$id\");\n",
    "\n",
    "    $I->see($title, 'h1');\n",
    "    $I->see($text, 'p');\n",
    "```"
   ]
  },
  {
   "cell_type": "markdown",
   "metadata": {},
   "source": [
    "Start database:"
   ]
  },
  {
   "cell_type": "code",
   "execution_count": 1,
   "metadata": {},
   "outputs": [
    {
     "name": "stdout",
     "output_type": "stream",
     "text": [
      "32764a38d140281f3ea98e449a208f569d1315d1e1da9197a2903c107434a5cc\r\n"
     ]
    }
   ],
   "source": [
    "! docker run --name=mysql --net=host --rm --env MYSQL_ROOT_PASSWORD=root123 --env MYSQL_DATABASE=test --env MYSQL_USER=test --env MYSQL_PASSWORD=test123 -d mysql/mysql-server:8.0"
   ]
  },
  {
   "cell_type": "code",
   "execution_count": 2,
   "metadata": {},
   "outputs": [
    {
     "name": "stdout",
     "output_type": "stream",
     "text": [
      "Done.\r\n"
     ]
    }
   ],
   "source": [
    "! while ! timeout 1 bash -c \"echo > /dev/tcp/localhost/3306\" 2> /dev/null; do sleep 1; done; echo \"Done.\";"
   ]
  },
  {
   "cell_type": "markdown",
   "metadata": {},
   "source": [
    "Edit the code:"
   ]
  },
  {
   "cell_type": "code",
   "execution_count": null,
   "metadata": {},
   "outputs": [
    {
     "name": "stdout",
     "output_type": "stream",
     "text": [
      "OpenJDK 64-Bit Server VM warning: Option UseConcMarkSweepGC was deprecated in version 9.0 and will likely be removed in a future release.\n",
      "2020-12-20 23:50:47,375 [  12696]   WARN - Container.ComponentManagerImpl - Do not use constructor injection (requestorClass=org.jetbrains.plugins.phpstorm.PhpStormInitialConfigurator) \n",
      "2020-12-20 23:51:13,183 [  38504]   WARN - pl.local.NativeFileWatcherImpl - Watcher terminated with exit code 3 \n",
      "2020-12-20 23:51:13,794 [  39115]   WARN - pl.local.NativeFileWatcherImpl - Watcher terminated with exit code 3 \n",
      "2020-12-20 23:51:14,304 [  39625]   WARN - pl.local.NativeFileWatcherImpl - Watcher terminated with exit code 3 \n",
      "2020-12-20 23:51:14,823 [  40144]   WARN - pl.local.NativeFileWatcherImpl - Watcher terminated with exit code 3 \n",
      "2020-12-20 23:51:15,349 [  40670]   WARN - pl.local.NativeFileWatcherImpl - Watcher terminated with exit code 3 \n",
      "2020-12-20 23:51:15,947 [  41268]   WARN - pl.local.NativeFileWatcherImpl - Watcher terminated with exit code 3 \n",
      "2020-12-20 23:51:16,712 [  42033]   WARN - pl.local.NativeFileWatcherImpl - Watcher terminated with exit code 3 \n",
      "2020-12-20 23:51:17,460 [  42781]   WARN - pl.local.NativeFileWatcherImpl - Watcher terminated with exit code 3 \n",
      "2020-12-20 23:51:18,149 [  43470]   WARN - pl.local.NativeFileWatcherImpl - Watcher terminated with exit code 3 \n",
      "2020-12-20 23:51:19,003 [  44324]   WARN - pl.local.NativeFileWatcherImpl - Watcher terminated with exit code 3 \n",
      "2020-12-20 23:51:19,016 [  44337]   WARN - api.vfs.impl.local.FileWatcher - File watcher failed to start \n",
      "2020-12-20 23:51:21,919 [  47240]   WARN - ernallyAddedFilesProcessorImpl - Cannot find project config directory for non-default and non-directory based project project \n",
      "2020-12-20 23:58:23,324 [ 468645]   WARN - ystem.impl.ActionPopupMenuImpl - 2897ms to fill popup menu ProjectViewPopup \n",
      "2020-12-20 23:58:48,789 [ 494110]   WARN - com.intellij.util.xmlb.Binding - no accessors for org.jetbrains.idea.perforce.perforce.ConnectionId \n",
      "2020-12-21 00:00:20,806 [ 586127]   WARN - tions.ex.ConfigurableCardPanel - auto-dispose 'PHP' id=reference.webide.settings.project.settings.php \n",
      "2020-12-21 00:00:20,808 [ 586129]   WARN - tions.ex.ConfigurableCardPanel - auto-dispose 'PHP' id=reference.webide.settings.project.settings.php \n"
     ]
    }
   ],
   "source": [
    "! phpstorm project"
   ]
  },
  {
   "cell_type": "markdown",
   "metadata": {},
   "source": [
    "You can test your solution using included tests:"
   ]
  },
  {
   "cell_type": "code",
   "execution_count": null,
   "metadata": {},
   "outputs": [],
   "source": [
    "%cd project"
   ]
  },
  {
   "cell_type": "code",
   "execution_count": null,
   "metadata": {},
   "outputs": [],
   "source": [
    "! composer install"
   ]
  },
  {
   "cell_type": "code",
   "execution_count": null,
   "metadata": {},
   "outputs": [],
   "source": [
    "! cp .env.example .env"
   ]
  },
  {
   "cell_type": "code",
   "execution_count": null,
   "metadata": {},
   "outputs": [],
   "source": [
    "! php artisan key:generate"
   ]
  },
  {
   "cell_type": "code",
   "execution_count": null,
   "metadata": {},
   "outputs": [],
   "source": [
    "! php artisan migrate"
   ]
  },
  {
   "cell_type": "code",
   "execution_count": null,
   "metadata": {},
   "outputs": [],
   "source": [
    "! docker exec mysql mysqldump -u root --password=root123 test > tests_codeception/_data/dump.sql"
   ]
  },
  {
   "cell_type": "code",
   "execution_count": null,
   "metadata": {},
   "outputs": [],
   "source": [
    "import subprocess\n",
    "artisanServe = subprocess.Popen(['php', 'artisan', 'serve', '--port', '8888'])"
   ]
  },
  {
   "cell_type": "code",
   "execution_count": null,
   "metadata": {},
   "outputs": [],
   "source": [
    "! vendor/bin/codecept run"
   ]
  },
  {
   "cell_type": "code",
   "execution_count": null,
   "metadata": {},
   "outputs": [],
   "source": [
    "! vendor/bin/codecept run"
   ]
  },
  {
   "cell_type": "code",
   "execution_count": null,
   "metadata": {},
   "outputs": [],
   "source": [
    "! killall php7.4"
   ]
  },
  {
   "cell_type": "code",
   "execution_count": null,
   "metadata": {},
   "outputs": [],
   "source": [
    "%cd .."
   ]
  },
  {
   "cell_type": "markdown",
   "metadata": {},
   "source": [
    "Stop database:"
   ]
  },
  {
   "cell_type": "code",
   "execution_count": null,
   "metadata": {},
   "outputs": [],
   "source": [
    "! docker container stop mysql"
   ]
  }
 ],
 "metadata": {
  "kernelspec": {
   "display_name": "Python 3",
   "language": "python",
   "name": "python3"
  },
  "language_info": {
   "codemirror_mode": {
    "name": "ipython",
    "version": 3
   },
   "file_extension": ".py",
   "mimetype": "text/x-python",
   "name": "python",
   "nbconvert_exporter": "python",
   "pygments_lexer": "ipython3",
   "version": "3.8.3"
  }
 },
 "nbformat": 4,
 "nbformat_minor": 4
}
