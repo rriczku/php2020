{
 "cells": [
  {
   "cell_type": "markdown",
   "metadata": {},
   "source": [
    "# PHP 2020"
   ]
  },
  {
   "cell_type": "markdown",
   "metadata": {},
   "source": [
    "## 8. Laravel"
   ]
  },
  {
   "cell_type": "markdown",
   "metadata": {},
   "source": [
    "### 8.1 Tutorial"
   ]
  },
  {
   "cell_type": "markdown",
   "metadata": {},
   "source": [
    "Start database:"
   ]
  },
  {
   "cell_type": "code",
   "execution_count": 1,
   "metadata": {},
   "outputs": [
    {
     "name": "stdout",
     "output_type": "stream",
     "text": [
      "7ac8c6367c3bad23490f39dbafffea0723eda0de5168b43e3bd1ce43ca51d2d1\r\n"
     ]
    }
   ],
   "source": [
    "! docker run --name=mysql --net=host --rm --env MYSQL_ROOT_PASSWORD=root123 --env MYSQL_DATABASE=test --env MYSQL_USER=test --env MYSQL_PASSWORD=test123 -d mysql/mysql-server:8.0"
   ]
  },
  {
   "cell_type": "code",
   "execution_count": 2,
   "metadata": {},
   "outputs": [
    {
     "name": "stdout",
     "output_type": "stream",
     "text": [
      "Done.\r\n"
     ]
    }
   ],
   "source": [
    "! while ! timeout 1 bash -c \"echo > /dev/tcp/localhost/3306\" 2> /dev/null; do sleep 1; done; echo \"Done.\";"
   ]
  },
  {
   "cell_type": "markdown",
   "metadata": {},
   "source": [
    "#### Basics"
   ]
  },
  {
   "cell_type": "markdown",
   "metadata": {},
   "source": [
    "Create a project:"
   ]
  },
  {
   "cell_type": "code",
   "execution_count": 3,
   "metadata": {},
   "outputs": [
    {
     "name": "stdout",
     "output_type": "stream",
     "text": [
      "\u001b[32mCreating a \"laravel/laravel\" project at \"./demo\"\u001b[39m\n",
      "\u001b[32mInstalling laravel/laravel (v8.5.5)\u001b[39m\n",
      "  - Installing \u001b[32mlaravel/laravel\u001b[39m (\u001b[33mv8.5.5\u001b[39m): Loading from cache\n",
      "\u001b[32mCreated project in /home/student/php_2020_jakub_rychlicki/08_laravel/01_tutorial/demo\u001b[39m\n",
      "> @php -r \"file_exists('.env') || copy('.env.example', '.env');\"\n",
      "\u001b[32mLoading composer repositories with package information\u001b[39m\n",
      "\u001b[32mUpdating dependencies (including require-dev)\u001b[39m\n",
      "\u001b[32mPackage operations: 105 installs, 0 updates, 0 removals\u001b[39m\n",
      "  - Installing \u001b[32mvoku/portable-ascii\u001b[39m (\u001b[33m1.5.6\u001b[39m): Loading from cache\n",
      "  - Installing \u001b[32msymfony/polyfill-php80\u001b[39m (\u001b[33mv1.20.0\u001b[39m): Loading from cache\n",
      "  - Installing \u001b[32msymfony/polyfill-mbstring\u001b[39m (\u001b[33mv1.20.0\u001b[39m): Loading from cache\n",
      "  - Installing \u001b[32msymfony/polyfill-ctype\u001b[39m (\u001b[33mv1.20.0\u001b[39m): Loading from cache\n",
      "  - Installing \u001b[32mphpoption/phpoption\u001b[39m (\u001b[33m1.7.5\u001b[39m): Loading from cache\n",
      "  - Installing \u001b[32mgraham-campbell/result-type\u001b[39m (\u001b[33mv1.0.1\u001b[39m): Loading from cache\n",
      "  - Installing \u001b[32mvlucas/phpdotenv\u001b[39m (\u001b[33mv5.2.0\u001b[39m): Loading from cache\n",
      "  - Installing \u001b[32msymfony/css-selector\u001b[39m (\u001b[33mv5.2.1\u001b[39m): Loading from cache\n",
      "  - Installing \u001b[32mtijsverkoyen/css-to-inline-styles\u001b[39m (\u001b[33m2.2.3\u001b[39m): Loading from cache\n",
      "  - Installing \u001b[32msymfony/var-dumper\u001b[39m (\u001b[33mv5.2.1\u001b[39m): Loading from cache\n",
      "  - Installing \u001b[32msymfony/deprecation-contracts\u001b[39m (\u001b[33mv2.2.0\u001b[39m): Loading from cache\n",
      "  - Installing \u001b[32msymfony/routing\u001b[39m (\u001b[33mv5.2.1\u001b[39m): Loading from cache\n",
      "  - Installing \u001b[32msymfony/process\u001b[39m (\u001b[33mv5.2.1\u001b[39m): Loading from cache\n",
      "  - Installing \u001b[32msymfony/polyfill-php72\u001b[39m (\u001b[33mv1.20.0\u001b[39m): Loading from cache\n",
      "  - Installing \u001b[32msymfony/polyfill-intl-normalizer\u001b[39m (\u001b[33mv1.20.0\u001b[39m): Loading from cache\n",
      "  - Installing \u001b[32msymfony/polyfill-intl-idn\u001b[39m (\u001b[33mv1.20.0\u001b[39m): Loading from cache\n",
      "  - Installing \u001b[32msymfony/mime\u001b[39m (\u001b[33mv5.2.1\u001b[39m): Loading from cache\n",
      "  - Installing \u001b[32msymfony/polyfill-intl-grapheme\u001b[39m (\u001b[33mv1.20.0\u001b[39m): Loading from cache\n",
      "  - Installing \u001b[32msymfony/string\u001b[39m (\u001b[33mv5.2.1\u001b[39m): Loading from cache\n",
      "  - Installing \u001b[32mphpdocumentor/reflection-common\u001b[39m (\u001b[33m2.2.0\u001b[39m): Loading from cache\n",
      "  - Installing \u001b[32mwebmozart/assert\u001b[39m (\u001b[33m1.9.1\u001b[39m): Loading from cache\n",
      "  - Installing \u001b[32mphpdocumentor/type-resolver\u001b[39m (\u001b[33m1.4.0\u001b[39m): Loading from cache\n",
      "  - Installing \u001b[32mphpdocumentor/reflection-docblock\u001b[39m (\u001b[33m5.2.2\u001b[39m): Loading from cache\n",
      "  - Installing \u001b[32mpsr/log\u001b[39m (\u001b[33m1.1.3\u001b[39m): Loading from cache\n",
      "  - Installing \u001b[32msymfony/polyfill-php73\u001b[39m (\u001b[33mv1.20.0\u001b[39m): Loading from cache\n",
      "  - Installing \u001b[32msymfony/http-foundation\u001b[39m (\u001b[33mv5.2.1\u001b[39m): Loading from cache\n",
      "  - Installing \u001b[32msymfony/http-client-contracts\u001b[39m (\u001b[33mv2.3.1\u001b[39m): Loading from cache\n",
      "  - Installing \u001b[32mpsr/container\u001b[39m (\u001b[33m1.0.0\u001b[39m): Loading from cache\n",
      "  - Installing \u001b[32mpsr/event-dispatcher\u001b[39m (\u001b[33m1.0.0\u001b[39m): Loading from cache\n",
      "  - Installing \u001b[32msymfony/event-dispatcher-contracts\u001b[39m (\u001b[33mv2.2.0\u001b[39m): Loading from cache\n",
      "  - Installing \u001b[32msymfony/event-dispatcher\u001b[39m (\u001b[33mv5.2.1\u001b[39m): Loading from cache\n",
      "  - Installing \u001b[32msymfony/error-handler\u001b[39m (\u001b[33mv5.2.1\u001b[39m): Loading from cache\n",
      "  - Installing \u001b[32msymfony/http-kernel\u001b[39m (\u001b[33mv5.2.1\u001b[39m): Loading from cache\n",
      "  - Installing \u001b[32msymfony/finder\u001b[39m (\u001b[33mv5.2.1\u001b[39m): Loading from cache\n",
      "  - Installing \u001b[32msymfony/service-contracts\u001b[39m (\u001b[33mv2.2.0\u001b[39m): Loading from cache\n",
      "  - Installing \u001b[32msymfony/console\u001b[39m (\u001b[33mv5.2.1\u001b[39m): Loading from cache\n",
      "  - Installing \u001b[32msymfony/polyfill-iconv\u001b[39m (\u001b[33mv1.20.0\u001b[39m): Loading from cache\n",
      "  - Installing \u001b[32mdoctrine/lexer\u001b[39m (\u001b[33m1.2.1\u001b[39m): Loading from cache\n",
      "  - Installing \u001b[32megulias/email-validator\u001b[39m (\u001b[33m2.1.24\u001b[39m): Loading from cache\n",
      "  - Installing \u001b[32mswiftmailer/swiftmailer\u001b[39m (\u001b[33mv6.2.4\u001b[39m): Loading from cache\n",
      "  - Installing \u001b[32mbrick/math\u001b[39m (\u001b[33m0.9.1\u001b[39m): Loading from cache\n",
      "  - Installing \u001b[32mramsey/collection\u001b[39m (\u001b[33m1.1.1\u001b[39m): Loading from cache\n",
      "  - Installing \u001b[32mramsey/uuid\u001b[39m (\u001b[33m4.1.1\u001b[39m): Loading from cache\n",
      "  - Installing \u001b[32mpsr/simple-cache\u001b[39m (\u001b[33m1.0.1\u001b[39m): Loading from cache\n",
      "  - Installing \u001b[32mopis/closure\u001b[39m (\u001b[33m3.6.1\u001b[39m): Loading from cache\n",
      "  - Installing \u001b[32msymfony/translation-contracts\u001b[39m (\u001b[33mv2.3.0\u001b[39m): Loading from cache\n",
      "  - Installing \u001b[32msymfony/translation\u001b[39m (\u001b[33mv5.2.1\u001b[39m): Loading from cache\n",
      "  - Installing \u001b[32mnesbot/carbon\u001b[39m (\u001b[33m2.43.0\u001b[39m): Loading from cache\n",
      "  - Installing \u001b[32mmonolog/monolog\u001b[39m (\u001b[33m2.2.0\u001b[39m): Loading from cache\n",
      "  - Installing \u001b[32mleague/mime-type-detection\u001b[39m (\u001b[33m1.5.1\u001b[39m): Loading from cache\n",
      "  - Installing \u001b[32mleague/flysystem\u001b[39m (\u001b[33m1.1.3\u001b[39m): Loading from cache\n",
      "  - Installing \u001b[32mleague/commonmark\u001b[39m (\u001b[33m1.5.7\u001b[39m): Loading from cache\n",
      "  - Installing \u001b[32mdragonmantank/cron-expression\u001b[39m (\u001b[33mv3.1.0\u001b[39m): Loading from cache\n",
      "  - Installing \u001b[32mdoctrine/inflector\u001b[39m (\u001b[33m2.0.3\u001b[39m): Loading from cache\n",
      "  - Installing \u001b[32mlaravel/framework\u001b[39m (\u001b[33mv8.19.0\u001b[39m): Loading from cache\n",
      "  - Installing \u001b[32mlaravel/sail\u001b[39m (\u001b[33mv0.0.5\u001b[39m): Loading from cache\n",
      "  - Installing \u001b[32mfideloper/proxy\u001b[39m (\u001b[33m4.4.1\u001b[39m): Loading from cache\n",
      "  - Installing \u001b[32masm89/stack-cors\u001b[39m (\u001b[33mv2.0.2\u001b[39m): Loading from cache\n",
      "  - Installing \u001b[32mfruitcake/laravel-cors\u001b[39m (\u001b[33mv2.0.3\u001b[39m): Loading from cache\n",
      "  - Installing \u001b[32mpsr/http-message\u001b[39m (\u001b[33m1.0.1\u001b[39m): Loading from cache\n",
      "  - Installing \u001b[32mpsr/http-client\u001b[39m (\u001b[33m1.0.1\u001b[39m): Loading from cache\n",
      "  - Installing \u001b[32mralouphie/getallheaders\u001b[39m (\u001b[33m3.0.3\u001b[39m): Loading from cache\n",
      "  - Installing \u001b[32mguzzlehttp/psr7\u001b[39m (\u001b[33m1.7.0\u001b[39m): Loading from cache\n",
      "  - Installing \u001b[32mguzzlehttp/promises\u001b[39m (\u001b[33m1.4.0\u001b[39m): Loading from cache\n",
      "  - Installing \u001b[32mguzzlehttp/guzzle\u001b[39m (\u001b[33m7.2.0\u001b[39m): Loading from cache\n",
      "  - Installing \u001b[32mdnoegel/php-xdg-base-dir\u001b[39m (\u001b[33mv0.1.1\u001b[39m): Loading from cache\n",
      "  - Installing \u001b[32mnikic/php-parser\u001b[39m (\u001b[33mv4.10.4\u001b[39m): Loading from cache\n",
      "  - Installing \u001b[32mpsy/psysh\u001b[39m (\u001b[33mv0.10.5\u001b[39m): Loading from cache\n",
      "  - Installing \u001b[32mlaravel/tinker\u001b[39m (\u001b[33mv2.5.0\u001b[39m): Loading from cache\n",
      "  - Installing \u001b[32mfilp/whoops\u001b[39m (\u001b[33m2.9.1\u001b[39m): Loading from cache\n",
      "  - Installing \u001b[32mfacade/ignition-contracts\u001b[39m (\u001b[33m1.0.2\u001b[39m): Loading from cache\n",
      "  - Installing \u001b[32mfacade/flare-client-php\u001b[39m (\u001b[33m1.3.7\u001b[39m): Loading from cache\n",
      "  - Installing \u001b[32mfacade/ignition\u001b[39m (\u001b[33m2.5.3\u001b[39m): Loading from cache\n",
      "  - Installing \u001b[32mfakerphp/faker\u001b[39m (\u001b[33mv1.13.0\u001b[39m): Loading from cache\n",
      "  - Installing \u001b[32mhamcrest/hamcrest-php\u001b[39m (\u001b[33mv2.0.1\u001b[39m): Loading from cache\n",
      "  - Installing \u001b[32mmockery/mockery\u001b[39m (\u001b[33m1.4.2\u001b[39m): Loading from cache\n",
      "  - Installing \u001b[32mnunomaduro/collision\u001b[39m (\u001b[33mv5.1.0\u001b[39m): Loading from cache\n",
      "  - Installing \u001b[32msebastian/version\u001b[39m (\u001b[33m3.0.2\u001b[39m): Loading from cache\n",
      "  - Installing \u001b[32msebastian/type\u001b[39m (\u001b[33m2.3.1\u001b[39m): Loading from cache\n",
      "  - Installing \u001b[32msebastian/resource-operations\u001b[39m (\u001b[33m3.0.3\u001b[39m): Loading from cache\n",
      "  - Installing \u001b[32msebastian/recursion-context\u001b[39m (\u001b[33m4.0.4\u001b[39m): Loading from cache\n",
      "  - Installing \u001b[32msebastian/object-reflector\u001b[39m (\u001b[33m2.0.4\u001b[39m): Loading from cache\n",
      "  - Installing \u001b[32msebastian/object-enumerator\u001b[39m (\u001b[33m4.0.4\u001b[39m): Loading from cache\n",
      "  - Installing \u001b[32msebastian/global-state\u001b[39m (\u001b[33m5.0.2\u001b[39m): Loading from cache\n",
      "  - Installing \u001b[32msebastian/exporter\u001b[39m (\u001b[33m4.0.3\u001b[39m): Loading from cache\n",
      "  - Installing \u001b[32msebastian/environment\u001b[39m (\u001b[33m5.1.3\u001b[39m): Loading from cache\n",
      "  - Installing \u001b[32msebastian/diff\u001b[39m (\u001b[33m4.0.4\u001b[39m): Loading from cache\n",
      "  - Installing \u001b[32msebastian/comparator\u001b[39m (\u001b[33m4.0.6\u001b[39m): Loading from cache\n",
      "  - Installing \u001b[32msebastian/code-unit\u001b[39m (\u001b[33m1.0.8\u001b[39m): Loading from cache\n",
      "  - Installing \u001b[32msebastian/cli-parser\u001b[39m (\u001b[33m1.0.1\u001b[39m): Loading from cache\n",
      "  - Installing \u001b[32mphpunit/php-timer\u001b[39m (\u001b[33m5.0.3\u001b[39m): Loading from cache\n"
     ]
    },
    {
     "name": "stdout",
     "output_type": "stream",
     "text": [
      "  - Installing \u001b[32mphpunit/php-text-template\u001b[39m (\u001b[33m2.0.4\u001b[39m): Loading from cache\n",
      "  - Installing \u001b[32mphpunit/php-invoker\u001b[39m (\u001b[33m3.1.1\u001b[39m): Loading from cache\n",
      "  - Installing \u001b[32mphpunit/php-file-iterator\u001b[39m (\u001b[33m3.0.5\u001b[39m): Loading from cache\n",
      "  - Installing \u001b[32msebastian/lines-of-code\u001b[39m (\u001b[33m1.0.3\u001b[39m): Loading from cache\n",
      "  - Installing \u001b[32msebastian/complexity\u001b[39m (\u001b[33m2.0.2\u001b[39m): Loading from cache\n",
      "  - Installing \u001b[32mtheseer/tokenizer\u001b[39m (\u001b[33m1.2.0\u001b[39m): Loading from cache\n",
      "  - Installing \u001b[32msebastian/code-unit-reverse-lookup\u001b[39m (\u001b[33m2.0.3\u001b[39m): Loading from cache\n",
      "  - Installing \u001b[32mphpunit/php-code-coverage\u001b[39m (\u001b[33m9.2.5\u001b[39m): Loading from cache\n",
      "  - Installing \u001b[32mdoctrine/instantiator\u001b[39m (\u001b[33m1.4.0\u001b[39m): Loading from cache\n",
      "  - Installing \u001b[32mphpspec/prophecy\u001b[39m (\u001b[33m1.12.2\u001b[39m): Loading from cache\n",
      "  - Installing \u001b[32mphar-io/version\u001b[39m (\u001b[33m3.0.4\u001b[39m): Loading from cache\n",
      "  - Installing \u001b[32mphar-io/manifest\u001b[39m (\u001b[33m2.0.1\u001b[39m): Loading from cache\n",
      "  - Installing \u001b[32mmyclabs/deep-copy\u001b[39m (\u001b[33m1.10.2\u001b[39m): Loading from cache\n",
      "  - Installing \u001b[32mphpunit/phpunit\u001b[39m (\u001b[33m9.5.0\u001b[39m): Loading from cache\n",
      "voku/portable-ascii suggests installing ext-intl (Use Intl for transliterator_transliterate() support)\n",
      "symfony/var-dumper suggests installing ext-intl (To show region name in time zone dump)\n",
      "symfony/routing suggests installing symfony/config (For using the all-in-one router or any loader)\n",
      "symfony/routing suggests installing symfony/yaml (For using the YAML loader)\n",
      "symfony/routing suggests installing symfony/expression-language (For using expression matching)\n",
      "symfony/routing suggests installing doctrine/annotations (For using the annotation loader)\n",
      "symfony/polyfill-intl-normalizer suggests installing ext-intl (For best performance)\n",
      "symfony/polyfill-intl-idn suggests installing ext-intl (For best performance)\n",
      "symfony/polyfill-intl-grapheme suggests installing ext-intl (For best performance)\n",
      "symfony/http-client-contracts suggests installing symfony/http-client-implementation\n",
      "symfony/event-dispatcher suggests installing symfony/dependency-injection\n",
      "symfony/http-kernel suggests installing symfony/browser-kit\n",
      "symfony/http-kernel suggests installing symfony/config\n",
      "symfony/http-kernel suggests installing symfony/dependency-injection\n",
      "symfony/service-contracts suggests installing symfony/service-implementation\n",
      "symfony/console suggests installing symfony/lock\n",
      "egulias/email-validator suggests installing ext-intl (PHP Internationalization Libraries are required to use the SpoofChecking validation)\n",
      "swiftmailer/swiftmailer suggests installing ext-intl (Needed to support internationalized email addresses)\n",
      "ramsey/uuid suggests installing ext-bcmath (Enables faster math with arbitrary-precision integers using BCMath.)\n",
      "ramsey/uuid suggests installing ext-gmp (Enables faster math with arbitrary-precision integers using GMP.)\n",
      "ramsey/uuid suggests installing ext-uuid (Enables the use of PeclUuidTimeGenerator and PeclUuidRandomGenerator.)\n",
      "ramsey/uuid suggests installing ramsey/uuid-doctrine (Allows the use of Ramsey\\Uuid\\Uuid as Doctrine field type.)\n",
      "ramsey/uuid suggests installing paragonie/random-lib (Provides RandomLib for use with the RandomLibAdapter)\n",
      "symfony/translation suggests installing symfony/config\n",
      "symfony/translation suggests installing symfony/yaml\n",
      "monolog/monolog suggests installing graylog2/gelf-php (Allow sending log messages to a GrayLog2 server)\n",
      "monolog/monolog suggests installing doctrine/couchdb (Allow sending log messages to a CouchDB server)\n",
      "monolog/monolog suggests installing ruflin/elastica (Allow sending log messages to an Elastic Search server)\n",
      "monolog/monolog suggests installing elasticsearch/elasticsearch (Allow sending log messages to an Elasticsearch server via official client)\n",
      "monolog/monolog suggests installing php-amqplib/php-amqplib (Allow sending log messages to an AMQP server using php-amqplib)\n",
      "monolog/monolog suggests installing ext-amqp (Allow sending log messages to an AMQP server (1.0+ required))\n",
      "monolog/monolog suggests installing ext-mongodb (Allow sending log messages to a MongoDB server (via driver))\n",
      "monolog/monolog suggests installing mongodb/mongodb (Allow sending log messages to a MongoDB server (via library))\n",
      "monolog/monolog suggests installing aws/aws-sdk-php (Allow sending log messages to AWS services like DynamoDB)\n",
      "monolog/monolog suggests installing rollbar/rollbar (Allow sending log messages to Rollbar)\n",
      "monolog/monolog suggests installing php-console/php-console (Allow sending log messages to Google Chrome)\n",
      "league/flysystem suggests installing league/flysystem-eventable-filesystem (Allows you to use EventableFilesystem)\n",
      "league/flysystem suggests installing league/flysystem-rackspace (Allows you to use Rackspace Cloud Files)\n",
      "league/flysystem suggests installing league/flysystem-azure (Allows you to use Windows Azure Blob storage)\n",
      "league/flysystem suggests installing league/flysystem-webdav (Allows you to use WebDAV storage)\n",
      "league/flysystem suggests installing league/flysystem-aws-s3-v2 (Allows you to use S3 storage with AWS SDK v2)\n",
      "league/flysystem suggests installing league/flysystem-aws-s3-v3 (Allows you to use S3 storage with AWS SDK v3)\n",
      "league/flysystem suggests installing spatie/flysystem-dropbox (Allows you to use Dropbox storage)\n",
      "league/flysystem suggests installing srmklive/flysystem-dropbox-v2 (Allows you to use Dropbox storage for PHP 5 applications)\n",
      "league/flysystem suggests installing league/flysystem-cached-adapter (Flysystem adapter decorator for metadata caching)\n",
      "league/flysystem suggests installing league/flysystem-sftp (Allows you to use SFTP server storage via phpseclib)\n",
      "league/flysystem suggests installing league/flysystem-ziparchive (Allows you to use ZipArchive adapter)\n",
      "laravel/framework suggests installing ext-gd (Required to use Illuminate\\Http\\Testing\\FileFactory::image().)\n",
      "laravel/framework suggests installing ext-memcached (Required to use the memcache cache driver.)\n",
      "laravel/framework suggests installing aws/aws-sdk-php (Required to use the SQS queue driver, DynamoDb failed job storage and SES mail driver (^3.155).)\n",
      "laravel/framework suggests installing doctrine/dbal (Required to rename columns and drop SQLite columns (^2.6|^3.0).)\n",
      "laravel/framework suggests installing league/flysystem-aws-s3-v3 (Required to use the Flysystem S3 driver (^1.0).)\n",
      "laravel/framework suggests installing league/flysystem-cached-adapter (Required to use the Flysystem cache (^1.0).)\n",
      "laravel/framework suggests installing league/flysystem-sftp (Required to use the Flysystem SFTP driver (^1.0).)\n",
      "laravel/framework suggests installing nyholm/psr7 (Required to use PSR-7 bridging features (^1.2).)\n",
      "laravel/framework suggests installing pda/pheanstalk (Required to use the beanstalk queue driver (^4.0).)\n",
      "laravel/framework suggests installing predis/predis (Required to use the predis connector (^1.1.2).)\n",
      "laravel/framework suggests installing pusher/pusher-php-server (Required to use the Pusher broadcast driver (^4.0).)\n",
      "laravel/framework suggests installing symfony/cache (Required to PSR-6 cache bridge (^5.1.4).)\n",
      "laravel/framework suggests installing symfony/filesystem (Required to enable support for relative symbolic links (^5.1.4).)\n",
      "laravel/framework suggests installing symfony/psr-http-message-bridge (Required to use PSR-7 bridging features (^2.0).)\n",
      "laravel/framework suggests installing wildbit/swiftmailer-postmark (Required to use Postmark mail driver (^3.0).)\n",
      "guzzlehttp/psr7 suggests installing laminas/laminas-httphandlerrunner (Emit PSR-7 responses)\n",
      "guzzlehttp/guzzle suggests installing ext-intl (Required for Internationalized Domain Name (IDN) support)\n",
      "psy/psysh suggests installing ext-pdo-sqlite (The doc command requires SQLite to work.)\n",
      "psy/psysh suggests installing hoa/console (A pure PHP readline implementation. You'll want this if your PHP install doesn't already support readline or libedit.)\n",
      "filp/whoops suggests installing whoops/soap (Formats errors as SOAP responses)\n",
      "facade/ignition suggests installing laravel/telescope (^3.1)\n",
      "sebastian/global-state suggests installing ext-uopz (*)\n",
      "phpunit/php-code-coverage suggests installing ext-pcov (*)\n",
      "phpunit/phpunit suggests installing ext-soap (*)\n",
      "\u001b[32mWriting lock file\u001b[39m\n"
     ]
    },
    {
     "name": "stdout",
     "output_type": "stream",
     "text": [
      "\u001b[32mGenerating optimized autoload files\u001b[39m\n",
      "> Illuminate\\Foundation\\ComposerScripts::postAutoloadDump\n",
      "> @php artisan package:discover --ansi\n",
      "Discovered Package: \u001b[32mfacade/ignition\u001b[39m\n",
      "Discovered Package: \u001b[32mfideloper/proxy\u001b[39m\n",
      "Discovered Package: \u001b[32mfruitcake/laravel-cors\u001b[39m\n",
      "Discovered Package: \u001b[32mlaravel/sail\u001b[39m\n",
      "Discovered Package: \u001b[32mlaravel/tinker\u001b[39m\n",
      "Discovered Package: \u001b[32mnesbot/carbon\u001b[39m\n",
      "Discovered Package: \u001b[32mnunomaduro/collision\u001b[39m\n",
      "\u001b[32mPackage manifest generated successfully.\u001b[39m\n",
      "\u001b[32m73 packages you are using are looking for funding.\u001b[39m\n",
      "\u001b[32mUse the `composer fund` command to find out more!\u001b[39m\n",
      "> @php artisan key:generate --ansi\n",
      "\u001b[32mApplication key set successfully.\u001b[39m\n"
     ]
    }
   ],
   "source": [
    "! composer create-project laravel/laravel demo"
   ]
  },
  {
   "cell_type": "markdown",
   "metadata": {},
   "source": [
    "Change working directory:"
   ]
  },
  {
   "cell_type": "code",
   "execution_count": 20,
   "metadata": {},
   "outputs": [
    {
     "name": "stdout",
     "output_type": "stream",
     "text": [
      "[Errno 2] No such file or directory: 'demo'\n",
      "/home/student/php_2020_jakub_rychlicki/08_laravel/01_tutorial/demo\n"
     ]
    }
   ],
   "source": [
    "%cd demo"
   ]
  },
  {
   "cell_type": "markdown",
   "metadata": {},
   "source": [
    "Try running the application:"
   ]
  },
  {
   "cell_type": "code",
   "execution_count": 22,
   "metadata": {},
   "outputs": [
    {
     "name": "stdout",
     "output_type": "stream",
     "text": [
      "\u001b[32mStarting Laravel development server:\u001b[39m http://127.0.0.1:8888\n",
      "[Sun Dec 20 22:50:02 2020] PHP 7.4.3 Development Server (http://127.0.0.1:8888) started\n",
      "^C\n"
     ]
    }
   ],
   "source": [
    "! php artisan serve --port 8888"
   ]
  },
  {
   "cell_type": "markdown",
   "metadata": {},
   "source": [
    "Stop the above cell."
   ]
  },
  {
   "cell_type": "markdown",
   "metadata": {},
   "source": [
    "Simulate clean checkot:"
   ]
  },
  {
   "cell_type": "code",
   "execution_count": 6,
   "metadata": {},
   "outputs": [],
   "source": [
    "! rm -rf vendor .env"
   ]
  },
  {
   "cell_type": "markdown",
   "metadata": {},
   "source": [
    "Restore the application:"
   ]
  },
  {
   "cell_type": "code",
   "execution_count": 7,
   "metadata": {},
   "outputs": [
    {
     "name": "stdout",
     "output_type": "stream",
     "text": [
      "\u001b[32mLoading composer repositories with package information\u001b[39m\n",
      "\u001b[32mInstalling dependencies (including require-dev) from lock file\u001b[39m\n",
      "\u001b[32mPackage operations: 105 installs, 0 updates, 0 removals\u001b[39m\n",
      "  - Installing \u001b[32mdoctrine/inflector\u001b[39m (\u001b[33m2.0.3\u001b[39m): Loading from cache\n",
      "  - Installing \u001b[32mdoctrine/lexer\u001b[39m (\u001b[33m1.2.1\u001b[39m): Loading from cache\n",
      "  - Installing \u001b[32msymfony/polyfill-ctype\u001b[39m (\u001b[33mv1.20.0\u001b[39m): Loading from cache\n",
      "  - Installing \u001b[32mwebmozart/assert\u001b[39m (\u001b[33m1.9.1\u001b[39m): Loading from cache\n",
      "  - Installing \u001b[32mdragonmantank/cron-expression\u001b[39m (\u001b[33mv3.1.0\u001b[39m): Loading from cache\n",
      "  - Installing \u001b[32mvoku/portable-ascii\u001b[39m (\u001b[33m1.5.6\u001b[39m): Loading from cache\n",
      "  - Installing \u001b[32msymfony/polyfill-php80\u001b[39m (\u001b[33mv1.20.0\u001b[39m): Loading from cache\n",
      "  - Installing \u001b[32msymfony/polyfill-mbstring\u001b[39m (\u001b[33mv1.20.0\u001b[39m): Loading from cache\n",
      "  - Installing \u001b[32mphpoption/phpoption\u001b[39m (\u001b[33m1.7.5\u001b[39m): Loading from cache\n",
      "  - Installing \u001b[32mgraham-campbell/result-type\u001b[39m (\u001b[33mv1.0.1\u001b[39m): Loading from cache\n",
      "  - Installing \u001b[32mvlucas/phpdotenv\u001b[39m (\u001b[33mv5.2.0\u001b[39m): Loading from cache\n",
      "  - Installing \u001b[32msymfony/css-selector\u001b[39m (\u001b[33mv5.2.1\u001b[39m): Loading from cache\n",
      "  - Installing \u001b[32mtijsverkoyen/css-to-inline-styles\u001b[39m (\u001b[33m2.2.3\u001b[39m): Loading from cache\n",
      "  - Installing \u001b[32msymfony/var-dumper\u001b[39m (\u001b[33mv5.2.1\u001b[39m): Loading from cache\n",
      "  - Installing \u001b[32msymfony/deprecation-contracts\u001b[39m (\u001b[33mv2.2.0\u001b[39m): Loading from cache\n",
      "  - Installing \u001b[32msymfony/routing\u001b[39m (\u001b[33mv5.2.1\u001b[39m): Loading from cache\n",
      "  - Installing \u001b[32msymfony/process\u001b[39m (\u001b[33mv5.2.1\u001b[39m): Loading from cache\n",
      "  - Installing \u001b[32msymfony/polyfill-php72\u001b[39m (\u001b[33mv1.20.0\u001b[39m): Loading from cache\n",
      "  - Installing \u001b[32msymfony/polyfill-intl-normalizer\u001b[39m (\u001b[33mv1.20.0\u001b[39m): Loading from cache\n",
      "  - Installing \u001b[32msymfony/polyfill-intl-idn\u001b[39m (\u001b[33mv1.20.0\u001b[39m): Loading from cache\n",
      "  - Installing \u001b[32msymfony/mime\u001b[39m (\u001b[33mv5.2.1\u001b[39m): Loading from cache\n",
      "  - Installing \u001b[32msymfony/polyfill-php73\u001b[39m (\u001b[33mv1.20.0\u001b[39m): Loading from cache\n",
      "  - Installing \u001b[32msymfony/http-foundation\u001b[39m (\u001b[33mv5.2.1\u001b[39m): Loading from cache\n",
      "  - Installing \u001b[32msymfony/http-client-contracts\u001b[39m (\u001b[33mv2.3.1\u001b[39m): Loading from cache\n",
      "  - Installing \u001b[32mpsr/event-dispatcher\u001b[39m (\u001b[33m1.0.0\u001b[39m): Loading from cache\n",
      "  - Installing \u001b[32msymfony/event-dispatcher-contracts\u001b[39m (\u001b[33mv2.2.0\u001b[39m): Loading from cache\n",
      "  - Installing \u001b[32msymfony/event-dispatcher\u001b[39m (\u001b[33mv5.2.1\u001b[39m): Loading from cache\n",
      "  - Installing \u001b[32mpsr/log\u001b[39m (\u001b[33m1.1.3\u001b[39m): Loading from cache\n",
      "  - Installing \u001b[32msymfony/error-handler\u001b[39m (\u001b[33mv5.2.1\u001b[39m): Loading from cache\n",
      "  - Installing \u001b[32msymfony/http-kernel\u001b[39m (\u001b[33mv5.2.1\u001b[39m): Loading from cache\n",
      "  - Installing \u001b[32msymfony/finder\u001b[39m (\u001b[33mv5.2.1\u001b[39m): Loading from cache\n",
      "  - Installing \u001b[32msymfony/polyfill-intl-grapheme\u001b[39m (\u001b[33mv1.20.0\u001b[39m): Loading from cache\n",
      "  - Installing \u001b[32msymfony/string\u001b[39m (\u001b[33mv5.2.1\u001b[39m): Loading from cache\n",
      "  - Installing \u001b[32mpsr/container\u001b[39m (\u001b[33m1.0.0\u001b[39m): Loading from cache\n",
      "  - Installing \u001b[32msymfony/service-contracts\u001b[39m (\u001b[33mv2.2.0\u001b[39m): Loading from cache\n",
      "  - Installing \u001b[32msymfony/console\u001b[39m (\u001b[33mv5.2.1\u001b[39m): Loading from cache\n",
      "  - Installing \u001b[32msymfony/polyfill-iconv\u001b[39m (\u001b[33mv1.20.0\u001b[39m): Loading from cache\n",
      "  - Installing \u001b[32megulias/email-validator\u001b[39m (\u001b[33m2.1.24\u001b[39m): Loading from cache\n",
      "  - Installing \u001b[32mswiftmailer/swiftmailer\u001b[39m (\u001b[33mv6.2.4\u001b[39m): Loading from cache\n",
      "  - Installing \u001b[32mramsey/collection\u001b[39m (\u001b[33m1.1.1\u001b[39m): Loading from cache\n",
      "  - Installing \u001b[32mbrick/math\u001b[39m (\u001b[33m0.9.1\u001b[39m): Loading from cache\n",
      "  - Installing \u001b[32mramsey/uuid\u001b[39m (\u001b[33m4.1.1\u001b[39m): Loading from cache\n",
      "  - Installing \u001b[32mpsr/simple-cache\u001b[39m (\u001b[33m1.0.1\u001b[39m): Loading from cache\n",
      "  - Installing \u001b[32mopis/closure\u001b[39m (\u001b[33m3.6.1\u001b[39m): Loading from cache\n",
      "  - Installing \u001b[32msymfony/translation-contracts\u001b[39m (\u001b[33mv2.3.0\u001b[39m): Loading from cache\n",
      "  - Installing \u001b[32msymfony/translation\u001b[39m (\u001b[33mv5.2.1\u001b[39m): Loading from cache\n",
      "  - Installing \u001b[32mnesbot/carbon\u001b[39m (\u001b[33m2.43.0\u001b[39m): Loading from cache\n",
      "  - Installing \u001b[32mmonolog/monolog\u001b[39m (\u001b[33m2.2.0\u001b[39m): Loading from cache\n",
      "  - Installing \u001b[32mleague/mime-type-detection\u001b[39m (\u001b[33m1.5.1\u001b[39m): Loading from cache\n",
      "  - Installing \u001b[32mleague/flysystem\u001b[39m (\u001b[33m1.1.3\u001b[39m): Loading from cache\n",
      "  - Installing \u001b[32mleague/commonmark\u001b[39m (\u001b[33m1.5.7\u001b[39m): Loading from cache\n",
      "  - Installing \u001b[32mlaravel/framework\u001b[39m (\u001b[33mv8.19.0\u001b[39m): Loading from cache\n",
      "  - Installing \u001b[32mfideloper/proxy\u001b[39m (\u001b[33m4.4.1\u001b[39m): Loading from cache\n",
      "  - Installing \u001b[32masm89/stack-cors\u001b[39m (\u001b[33mv2.0.2\u001b[39m): Loading from cache\n",
      "  - Installing \u001b[32mfruitcake/laravel-cors\u001b[39m (\u001b[33mv2.0.3\u001b[39m): Loading from cache\n",
      "  - Installing \u001b[32mpsr/http-message\u001b[39m (\u001b[33m1.0.1\u001b[39m): Loading from cache\n",
      "  - Installing \u001b[32mpsr/http-client\u001b[39m (\u001b[33m1.0.1\u001b[39m): Loading from cache\n",
      "  - Installing \u001b[32mralouphie/getallheaders\u001b[39m (\u001b[33m3.0.3\u001b[39m): Loading from cache\n",
      "  - Installing \u001b[32mguzzlehttp/psr7\u001b[39m (\u001b[33m1.7.0\u001b[39m): Loading from cache\n",
      "  - Installing \u001b[32mguzzlehttp/promises\u001b[39m (\u001b[33m1.4.0\u001b[39m): Loading from cache\n",
      "  - Installing \u001b[32mguzzlehttp/guzzle\u001b[39m (\u001b[33m7.2.0\u001b[39m): Loading from cache\n",
      "  - Installing \u001b[32mnikic/php-parser\u001b[39m (\u001b[33mv4.10.4\u001b[39m): Loading from cache\n",
      "  - Installing \u001b[32mdnoegel/php-xdg-base-dir\u001b[39m (\u001b[33mv0.1.1\u001b[39m): Loading from cache\n",
      "  - Installing \u001b[32mpsy/psysh\u001b[39m (\u001b[33mv0.10.5\u001b[39m): Loading from cache\n",
      "  - Installing \u001b[32mlaravel/tinker\u001b[39m (\u001b[33mv2.5.0\u001b[39m): Loading from cache\n",
      "  - Installing \u001b[32mfilp/whoops\u001b[39m (\u001b[33m2.9.1\u001b[39m): Loading from cache\n",
      "  - Installing \u001b[32mfacade/ignition-contracts\u001b[39m (\u001b[33m1.0.2\u001b[39m): Loading from cache\n",
      "  - Installing \u001b[32mfacade/flare-client-php\u001b[39m (\u001b[33m1.3.7\u001b[39m): Loading from cache\n",
      "  - Installing \u001b[32mfacade/ignition\u001b[39m (\u001b[33m2.5.3\u001b[39m): Loading from cache\n",
      "  - Installing \u001b[32mfakerphp/faker\u001b[39m (\u001b[33mv1.13.0\u001b[39m): Loading from cache\n",
      "  - Installing \u001b[32mlaravel/sail\u001b[39m (\u001b[33mv0.0.5\u001b[39m): Loading from cache\n",
      "  - Installing \u001b[32mhamcrest/hamcrest-php\u001b[39m (\u001b[33mv2.0.1\u001b[39m): Loading from cache\n",
      "  - Installing \u001b[32mmockery/mockery\u001b[39m (\u001b[33m1.4.2\u001b[39m): Loading from cache\n",
      "  - Installing \u001b[32mnunomaduro/collision\u001b[39m (\u001b[33mv5.1.0\u001b[39m): Loading from cache\n",
      "  - Installing \u001b[32mphpdocumentor/reflection-common\u001b[39m (\u001b[33m2.2.0\u001b[39m): Loading from cache\n",
      "  - Installing \u001b[32mphpdocumentor/type-resolver\u001b[39m (\u001b[33m1.4.0\u001b[39m): Loading from cache\n",
      "  - Installing \u001b[32mphpdocumentor/reflection-docblock\u001b[39m (\u001b[33m5.2.2\u001b[39m): Loading from cache\n",
      "  - Installing \u001b[32msebastian/version\u001b[39m (\u001b[33m3.0.2\u001b[39m): Loading from cache\n",
      "  - Installing \u001b[32msebastian/type\u001b[39m (\u001b[33m2.3.1\u001b[39m): Loading from cache\n",
      "  - Installing \u001b[32msebastian/resource-operations\u001b[39m (\u001b[33m3.0.3\u001b[39m): Loading from cache\n",
      "  - Installing \u001b[32msebastian/recursion-context\u001b[39m (\u001b[33m4.0.4\u001b[39m): Loading from cache\n",
      "  - Installing \u001b[32msebastian/object-reflector\u001b[39m (\u001b[33m2.0.4\u001b[39m): Loading from cache\n",
      "  - Installing \u001b[32msebastian/object-enumerator\u001b[39m (\u001b[33m4.0.4\u001b[39m): Loading from cache\n",
      "  - Installing \u001b[32msebastian/global-state\u001b[39m (\u001b[33m5.0.2\u001b[39m): Loading from cache\n",
      "  - Installing \u001b[32msebastian/exporter\u001b[39m (\u001b[33m4.0.3\u001b[39m): Loading from cache\n",
      "  - Installing \u001b[32msebastian/environment\u001b[39m (\u001b[33m5.1.3\u001b[39m): Loading from cache\n",
      "  - Installing \u001b[32msebastian/diff\u001b[39m (\u001b[33m4.0.4\u001b[39m): Loading from cache\n",
      "  - Installing \u001b[32msebastian/comparator\u001b[39m (\u001b[33m4.0.6\u001b[39m): Loading from cache\n",
      "  - Installing \u001b[32msebastian/code-unit\u001b[39m (\u001b[33m1.0.8\u001b[39m): Loading from cache\n",
      "  - Installing \u001b[32msebastian/cli-parser\u001b[39m (\u001b[33m1.0.1\u001b[39m): Loading from cache\n",
      "  - Installing \u001b[32mphpunit/php-timer\u001b[39m (\u001b[33m5.0.3\u001b[39m): Loading from cache\n",
      "  - Installing \u001b[32mphpunit/php-text-template\u001b[39m (\u001b[33m2.0.4\u001b[39m): Loading from cache\n",
      "  - Installing \u001b[32mphpunit/php-invoker\u001b[39m (\u001b[33m3.1.1\u001b[39m): Loading from cache\n",
      "  - Installing \u001b[32mphpunit/php-file-iterator\u001b[39m (\u001b[33m3.0.5\u001b[39m): Loading from cache\n",
      "  - Installing \u001b[32mtheseer/tokenizer\u001b[39m (\u001b[33m1.2.0\u001b[39m): Loading from cache\n"
     ]
    },
    {
     "name": "stdout",
     "output_type": "stream",
     "text": [
      "  - Installing \u001b[32msebastian/lines-of-code\u001b[39m (\u001b[33m1.0.3\u001b[39m): Loading from cache\n",
      "  - Installing \u001b[32msebastian/complexity\u001b[39m (\u001b[33m2.0.2\u001b[39m): Loading from cache\n",
      "  - Installing \u001b[32msebastian/code-unit-reverse-lookup\u001b[39m (\u001b[33m2.0.3\u001b[39m): Loading from cache\n",
      "  - Installing \u001b[32mphpunit/php-code-coverage\u001b[39m (\u001b[33m9.2.5\u001b[39m): Loading from cache\n",
      "  - Installing \u001b[32mdoctrine/instantiator\u001b[39m (\u001b[33m1.4.0\u001b[39m): Loading from cache\n",
      "  - Installing \u001b[32mphpspec/prophecy\u001b[39m (\u001b[33m1.12.2\u001b[39m): Loading from cache\n",
      "  - Installing \u001b[32mphar-io/version\u001b[39m (\u001b[33m3.0.4\u001b[39m): Loading from cache\n",
      "  - Installing \u001b[32mphar-io/manifest\u001b[39m (\u001b[33m2.0.1\u001b[39m): Loading from cache\n",
      "  - Installing \u001b[32mmyclabs/deep-copy\u001b[39m (\u001b[33m1.10.2\u001b[39m): Loading from cache\n",
      "  - Installing \u001b[32mphpunit/phpunit\u001b[39m (\u001b[33m9.5.0\u001b[39m): Loading from cache\n",
      "voku/portable-ascii suggests installing ext-intl (Use Intl for transliterator_transliterate() support)\n",
      "symfony/var-dumper suggests installing ext-intl (To show region name in time zone dump)\n",
      "symfony/routing suggests installing doctrine/annotations (For using the annotation loader)\n",
      "symfony/routing suggests installing symfony/config (For using the all-in-one router or any loader)\n",
      "symfony/routing suggests installing symfony/expression-language (For using expression matching)\n",
      "symfony/routing suggests installing symfony/yaml (For using the YAML loader)\n",
      "symfony/polyfill-intl-normalizer suggests installing ext-intl (For best performance)\n",
      "symfony/polyfill-intl-idn suggests installing ext-intl (For best performance)\n",
      "symfony/http-client-contracts suggests installing symfony/http-client-implementation\n",
      "symfony/event-dispatcher suggests installing symfony/dependency-injection\n",
      "symfony/http-kernel suggests installing symfony/browser-kit\n",
      "symfony/http-kernel suggests installing symfony/config\n",
      "symfony/http-kernel suggests installing symfony/dependency-injection\n",
      "symfony/polyfill-intl-grapheme suggests installing ext-intl (For best performance)\n",
      "symfony/service-contracts suggests installing symfony/service-implementation\n",
      "symfony/console suggests installing symfony/lock\n",
      "egulias/email-validator suggests installing ext-intl (PHP Internationalization Libraries are required to use the SpoofChecking validation)\n",
      "swiftmailer/swiftmailer suggests installing ext-intl (Needed to support internationalized email addresses)\n",
      "ramsey/uuid suggests installing ext-bcmath (Enables faster math with arbitrary-precision integers using BCMath.)\n",
      "ramsey/uuid suggests installing ext-gmp (Enables faster math with arbitrary-precision integers using GMP.)\n",
      "ramsey/uuid suggests installing ext-uuid (Enables the use of PeclUuidTimeGenerator and PeclUuidRandomGenerator.)\n",
      "ramsey/uuid suggests installing paragonie/random-lib (Provides RandomLib for use with the RandomLibAdapter)\n",
      "ramsey/uuid suggests installing ramsey/uuid-doctrine (Allows the use of Ramsey\\Uuid\\Uuid as Doctrine field type.)\n",
      "symfony/translation suggests installing symfony/config\n",
      "symfony/translation suggests installing symfony/yaml\n",
      "monolog/monolog suggests installing aws/aws-sdk-php (Allow sending log messages to AWS services like DynamoDB)\n",
      "monolog/monolog suggests installing doctrine/couchdb (Allow sending log messages to a CouchDB server)\n",
      "monolog/monolog suggests installing elasticsearch/elasticsearch (Allow sending log messages to an Elasticsearch server via official client)\n",
      "monolog/monolog suggests installing ext-amqp (Allow sending log messages to an AMQP server (1.0+ required))\n",
      "monolog/monolog suggests installing ext-mongodb (Allow sending log messages to a MongoDB server (via driver))\n",
      "monolog/monolog suggests installing graylog2/gelf-php (Allow sending log messages to a GrayLog2 server)\n",
      "monolog/monolog suggests installing mongodb/mongodb (Allow sending log messages to a MongoDB server (via library))\n",
      "monolog/monolog suggests installing php-amqplib/php-amqplib (Allow sending log messages to an AMQP server using php-amqplib)\n",
      "monolog/monolog suggests installing php-console/php-console (Allow sending log messages to Google Chrome)\n",
      "monolog/monolog suggests installing rollbar/rollbar (Allow sending log messages to Rollbar)\n",
      "monolog/monolog suggests installing ruflin/elastica (Allow sending log messages to an Elastic Search server)\n",
      "league/flysystem suggests installing league/flysystem-aws-s3-v2 (Allows you to use S3 storage with AWS SDK v2)\n",
      "league/flysystem suggests installing league/flysystem-aws-s3-v3 (Allows you to use S3 storage with AWS SDK v3)\n",
      "league/flysystem suggests installing league/flysystem-azure (Allows you to use Windows Azure Blob storage)\n",
      "league/flysystem suggests installing league/flysystem-cached-adapter (Flysystem adapter decorator for metadata caching)\n",
      "league/flysystem suggests installing league/flysystem-eventable-filesystem (Allows you to use EventableFilesystem)\n",
      "league/flysystem suggests installing league/flysystem-rackspace (Allows you to use Rackspace Cloud Files)\n",
      "league/flysystem suggests installing league/flysystem-sftp (Allows you to use SFTP server storage via phpseclib)\n",
      "league/flysystem suggests installing league/flysystem-webdav (Allows you to use WebDAV storage)\n",
      "league/flysystem suggests installing league/flysystem-ziparchive (Allows you to use ZipArchive adapter)\n",
      "league/flysystem suggests installing spatie/flysystem-dropbox (Allows you to use Dropbox storage)\n",
      "league/flysystem suggests installing srmklive/flysystem-dropbox-v2 (Allows you to use Dropbox storage for PHP 5 applications)\n",
      "laravel/framework suggests installing aws/aws-sdk-php (Required to use the SQS queue driver, DynamoDb failed job storage and SES mail driver (^3.155).)\n",
      "laravel/framework suggests installing doctrine/dbal (Required to rename columns and drop SQLite columns (^2.6|^3.0).)\n",
      "laravel/framework suggests installing ext-gd (Required to use Illuminate\\Http\\Testing\\FileFactory::image().)\n",
      "laravel/framework suggests installing ext-memcached (Required to use the memcache cache driver.)\n",
      "laravel/framework suggests installing league/flysystem-aws-s3-v3 (Required to use the Flysystem S3 driver (^1.0).)\n",
      "laravel/framework suggests installing league/flysystem-cached-adapter (Required to use the Flysystem cache (^1.0).)\n",
      "laravel/framework suggests installing league/flysystem-sftp (Required to use the Flysystem SFTP driver (^1.0).)\n",
      "laravel/framework suggests installing nyholm/psr7 (Required to use PSR-7 bridging features (^1.2).)\n",
      "laravel/framework suggests installing pda/pheanstalk (Required to use the beanstalk queue driver (^4.0).)\n",
      "laravel/framework suggests installing predis/predis (Required to use the predis connector (^1.1.2).)\n",
      "laravel/framework suggests installing pusher/pusher-php-server (Required to use the Pusher broadcast driver (^4.0).)\n",
      "laravel/framework suggests installing symfony/cache (Required to PSR-6 cache bridge (^5.1.4).)\n",
      "laravel/framework suggests installing symfony/filesystem (Required to enable support for relative symbolic links (^5.1.4).)\n",
      "laravel/framework suggests installing symfony/psr-http-message-bridge (Required to use PSR-7 bridging features (^2.0).)\n",
      "laravel/framework suggests installing wildbit/swiftmailer-postmark (Required to use Postmark mail driver (^3.0).)\n",
      "guzzlehttp/psr7 suggests installing laminas/laminas-httphandlerrunner (Emit PSR-7 responses)\n",
      "guzzlehttp/guzzle suggests installing ext-intl (Required for Internationalized Domain Name (IDN) support)\n",
      "psy/psysh suggests installing ext-pdo-sqlite (The doc command requires SQLite to work.)\n",
      "psy/psysh suggests installing hoa/console (A pure PHP readline implementation. You'll want this if your PHP install doesn't already support readline or libedit.)\n",
      "filp/whoops suggests installing whoops/soap (Formats errors as SOAP responses)\n",
      "facade/ignition suggests installing laravel/telescope (^3.1)\n",
      "sebastian/global-state suggests installing ext-uopz (*)\n",
      "phpunit/php-code-coverage suggests installing ext-pcov (*)\n",
      "phpunit/phpunit suggests installing ext-soap (*)\n",
      "\u001b[32mGenerating optimized autoload files\u001b[39m\n",
      "> Illuminate\\Foundation\\ComposerScripts::postAutoloadDump\n",
      "> @php artisan package:discover --ansi\n",
      "Discovered Package: \u001b[32mfacade/ignition\u001b[39m\n",
      "Discovered Package: \u001b[32mfideloper/proxy\u001b[39m\n",
      "Discovered Package: \u001b[32mfruitcake/laravel-cors\u001b[39m\n",
      "Discovered Package: \u001b[32mlaravel/sail\u001b[39m\n",
      "Discovered Package: \u001b[32mlaravel/tinker\u001b[39m\n",
      "Discovered Package: \u001b[32mnesbot/carbon\u001b[39m\n",
      "Discovered Package: \u001b[32mnunomaduro/collision\u001b[39m\n",
      "\u001b[32mPackage manifest generated successfully.\u001b[39m\n"
     ]
    },
    {
     "name": "stdout",
     "output_type": "stream",
     "text": [
      "\u001b[32m73 packages you are using are looking for funding.\u001b[39m\r\n",
      "\u001b[32mUse the `composer fund` command to find out more!\u001b[39m\r\n"
     ]
    }
   ],
   "source": [
    "! composer install"
   ]
  },
  {
   "cell_type": "code",
   "execution_count": 8,
   "metadata": {},
   "outputs": [
    {
     "name": "stdout",
     "output_type": "stream",
     "text": [
      "\u001b[32mStarting Laravel development server:\u001b[39m http://127.0.0.1:8888\n",
      "[Sun Dec 20 22:35:06 2020] PHP 7.4.3 Development Server (http://127.0.0.1:8888) started\n",
      "[Sun Dec 20 22:35:07 2020] 127.0.0.1:44492 Accepted\n",
      "[Sun Dec 20 22:35:08 2020] 127.0.0.1:44492 Closing\n",
      "^C\n"
     ]
    }
   ],
   "source": [
    "! php artisan serve --port 8888"
   ]
  },
  {
   "cell_type": "markdown",
   "metadata": {},
   "source": [
    "Stop the above cell."
   ]
  },
  {
   "cell_type": "markdown",
   "metadata": {},
   "source": [
    "Add ```.env``` file:"
   ]
  },
  {
   "cell_type": "code",
   "execution_count": 9,
   "metadata": {},
   "outputs": [],
   "source": [
    "! cp .env.example .env"
   ]
  },
  {
   "cell_type": "markdown",
   "metadata": {},
   "source": [
    "The newly created file: [.env](../../../edit/08_laravel/01_tutorial/demo/.env)"
   ]
  },
  {
   "cell_type": "code",
   "execution_count": 10,
   "metadata": {},
   "outputs": [
    {
     "name": "stdout",
     "output_type": "stream",
     "text": [
      "\u001b[32mStarting Laravel development server:\u001b[39m http://127.0.0.1:8888\n",
      "[Sun Dec 20 22:35:36 2020] PHP 7.4.3 Development Server (http://127.0.0.1:8888) started\n",
      "[Sun Dec 20 22:35:36 2020] 127.0.0.1:44494 Accepted\n",
      "[Sun Dec 20 22:35:38 2020] 127.0.0.1:44494 Closing\n",
      "[Sun Dec 20 22:35:39 2020] 127.0.0.1:44496 Accepted\n",
      "[Sun Dec 20 22:35:39 2020] 127.0.0.1:44496 Closing\n",
      "[Sun Dec 20 22:35:40 2020] 127.0.0.1:44498 Accepted\n",
      "[Sun Dec 20 22:35:40 2020] 127.0.0.1:44498 Closing\n",
      "^C\n"
     ]
    }
   ],
   "source": [
    "! php artisan serve --port 8888"
   ]
  },
  {
   "cell_type": "markdown",
   "metadata": {},
   "source": [
    "Stop the above cell."
   ]
  },
  {
   "cell_type": "code",
   "execution_count": 11,
   "metadata": {},
   "outputs": [
    {
     "name": "stdout",
     "output_type": "stream",
     "text": [
      "\u001b[32mApplication key set successfully.\u001b[39m\r\n"
     ]
    }
   ],
   "source": [
    "! php artisan key:generate"
   ]
  },
  {
   "cell_type": "code",
   "execution_count": 12,
   "metadata": {},
   "outputs": [
    {
     "name": "stdout",
     "output_type": "stream",
     "text": [
      "\u001b[32mStarting Laravel development server:\u001b[39m http://127.0.0.1:8888\n",
      "[Sun Dec 20 22:36:07 2020] PHP 7.4.3 Development Server (http://127.0.0.1:8888) started\n",
      "[Sun Dec 20 22:36:08 2020] 127.0.0.1:44504 Accepted\n",
      "[Sun Dec 20 22:36:10 2020] 127.0.0.1:44504 Closing\n",
      "^C\n"
     ]
    }
   ],
   "source": [
    "! php artisan serve --port 8888"
   ]
  },
  {
   "cell_type": "markdown",
   "metadata": {},
   "source": [
    "The application should now run crrectly."
   ]
  },
  {
   "cell_type": "markdown",
   "metadata": {},
   "source": [
    "Stop the above cell."
   ]
  },
  {
   "cell_type": "markdown",
   "metadata": {},
   "source": [
    "#### Codeception"
   ]
  },
  {
   "cell_type": "code",
   "execution_count": 27,
   "metadata": {},
   "outputs": [
    {
     "name": "stdout",
     "output_type": "stream",
     "text": [
      "Using version \u001b[32m^4.1\u001b[39m for \u001b[32mcodeception/codeception\u001b[39m\n",
      "Using version \u001b[32m^1.3\u001b[39m for \u001b[32mcodeception/module-asserts\u001b[39m\n",
      "Using version \u001b[32m^1.0\u001b[39m for \u001b[32mcodeception/module-phpbrowser\u001b[39m\n",
      "Using version \u001b[32m^1.1\u001b[39m for \u001b[32mcodeception/module-db\u001b[39m\n",
      "\u001b[32m./composer.json has been updated\u001b[39m\n",
      "\u001b[32mLoading composer repositories with package information\u001b[39m\n",
      "\u001b[32mUpdating dependencies (including require-dev)\u001b[39m\n",
      "Killed\n"
     ]
    }
   ],
   "source": [
    "! composer require \\\n",
    "    codeception/codeception \\\n",
    "    codeception/module-asserts \\\n",
    "    codeception/module-phpbrowser \\\n",
    "    codeception/module-db \\\n",
    "    --dev --no-suggest"
   ]
  },
  {
   "cell_type": "code",
   "execution_count": 25,
   "metadata": {},
   "outputs": [
    {
     "name": "stdout",
     "output_type": "stream",
     "text": [
      "/usr/bin/sh: 1: vendor/bin/codecept: not found\r\n"
     ]
    }
   ],
   "source": [
    "! vendor/bin/codecept bootstrap tmp_bootrstrap"
   ]
  },
  {
   "cell_type": "code",
   "execution_count": 6,
   "metadata": {},
   "outputs": [
    {
     "name": "stdout",
     "output_type": "stream",
     "text": [
      "mv: cannot stat 'tmp_bootrstrap/tests/': No such file or directory\r\n"
     ]
    }
   ],
   "source": [
    "! mv tmp_bootrstrap/tests/ tests_codeception"
   ]
  },
  {
   "cell_type": "code",
   "execution_count": 7,
   "metadata": {},
   "outputs": [],
   "source": [
    "! mv tmp_bootrstrap/codeception.yml ."
   ]
  },
  {
   "cell_type": "code",
   "execution_count": 8,
   "metadata": {},
   "outputs": [],
   "source": [
    "! rm -rf tmp_bootrstrap/"
   ]
  },
  {
   "cell_type": "markdown",
   "metadata": {},
   "source": [
    "Replace the configuration in [codeception.yml](../../../edit/08_laravel/01_tutorial/demo/codeception.yml) by:\n",
    "\n",
    "```yml\n",
    "paths:\n",
    "    tests: tests_codeception\n",
    "    output: tests_codeception/_output\n",
    "    data: tests_codeception/_data\n",
    "    support: tests_codeception/_support\n",
    "    envs: tests_codeception/_envs\n",
    "actor_suffix: Tester\n",
    "extensions:\n",
    "    enabled:\n",
    "        - Codeception\\Extension\\RunFailed\n",
    "```"
   ]
  },
  {
   "cell_type": "markdown",
   "metadata": {},
   "source": [
    "Run the tests:"
   ]
  },
  {
   "cell_type": "code",
   "execution_count": 9,
   "metadata": {},
   "outputs": [
    {
     "name": "stdout",
     "output_type": "stream",
     "text": [
      "Codeception PHP Testing Framework v4.1.13\n",
      "Powered by PHPUnit 9.5.0 by Sebastian Bergmann and contributors.\n",
      "Running with seed: \n",
      "\n",
      "\n",
      "\u001b[1mAcceptance Tests (0) \u001b[22m-----------------------------------------------------------\n",
      "--------------------------------------------------------------------------------\n",
      "\n",
      "\u001b[1mFunctional Tests (0) \u001b[22m-----------------------------------------------------------\n",
      "--------------------------------------------------------------------------------\n",
      "\n",
      "\u001b[1mUnit Tests (0) \u001b[22m-----------------------------------------------------------------\n",
      "--------------------------------------------------------------------------------\n",
      "\u001b[30;43mNo tests executed!\u001b[0m\n"
     ]
    }
   ],
   "source": [
    "! vendor/bin/codecept run"
   ]
  },
  {
   "cell_type": "markdown",
   "metadata": {},
   "source": [
    "Add a test:"
   ]
  },
  {
   "cell_type": "code",
   "execution_count": 10,
   "metadata": {},
   "outputs": [
    {
     "name": "stdout",
     "output_type": "stream",
     "text": [
      "\u001b[32mTest was created in /home/student/php_2020_jakub_rychlicki/08_laravel/01_tutorial/tests_codeception/acceptance/HomepageCept.php\u001b[39m\r\n"
     ]
    }
   ],
   "source": [
    "! vendor/bin/codecept generate:cept acceptance Homepage"
   ]
  },
  {
   "cell_type": "markdown",
   "metadata": {},
   "source": [
    "Add below code in [tests_codeception/acceptance/HomepageCept.php](../../../edit/08_laravel/01_tutorial/demo/tests_codeception/acceptance/HomepageCept.php):\n",
    "\n",
    "```php\n",
    "<?php\n",
    "\n",
    "$I = new AcceptanceTester($scenario);\n",
    "$I->wantTo('see Laravel links on homepage');\n",
    "\n",
    "$I->amOnPage('/');\n",
    "\n",
    "$I->seeInTitle('Laravel');\n",
    "\n",
    "$I->seeLink(\"Documentation\", \"https://laravel.com/docs\");\n",
    "$I->seeLink(\"Laracasts\", \"https://laracasts.com\");\n",
    "$I->seeLink(\"Forge\", \"https://forge.laravel.com\");\n",
    "```"
   ]
  },
  {
   "cell_type": "markdown",
   "metadata": {},
   "source": [
    "To fix the URL in configuration open the [tests_codeception/acceptance.suite.yml](../../../edit/08_laravel/01_tutorial/demo/tests_codeception/acceptance.suite.yml) and change:\n",
    "\n",
    "```yml\n",
    "modules:\n",
    "    enabled:\n",
    "        - PhpBrowser:\n",
    "            url: http://localhost/myapp\n",
    "```\n",
    "\n",
    "to\n",
    "\n",
    "```yml\n",
    "modules:\n",
    "    enabled:\n",
    "        - PhpBrowser:\n",
    "            url: http://localhost:8888\n",
    "```"
   ]
  },
  {
   "cell_type": "markdown",
   "metadata": {},
   "source": [
    "Run the tests:"
   ]
  },
  {
   "cell_type": "code",
   "execution_count": 1,
   "metadata": {},
   "outputs": [
    {
     "data": {
      "text/plain": [
       "<subprocess.Popen at 0x7fec3c23c490>"
      ]
     },
     "execution_count": 1,
     "metadata": {},
     "output_type": "execute_result"
    }
   ],
   "source": [
    "import subprocess\n",
    "subprocess.Popen(['php', 'artisan', 'serve', '--port', '8888'])"
   ]
  },
  {
   "cell_type": "code",
   "execution_count": 19,
   "metadata": {},
   "outputs": [
    {
     "name": "stdout",
     "output_type": "stream",
     "text": [
      "/usr/bin/sh: 1: vendor/bin/codecept: not found\r\n"
     ]
    }
   ],
   "source": [
    "! vendor/bin/codecept run"
   ]
  },
  {
   "cell_type": "code",
   "execution_count": 13,
   "metadata": {},
   "outputs": [
    {
     "name": "stdout",
     "output_type": "stream",
     "text": [
      "php7.4: no process found\r\n"
     ]
    }
   ],
   "source": [
    "! killall php7.4"
   ]
  },
  {
   "cell_type": "markdown",
   "metadata": {},
   "source": [
    "#### Database"
   ]
  },
  {
   "cell_type": "markdown",
   "metadata": {},
   "source": [
    "Try migrating the databse:"
   ]
  },
  {
   "cell_type": "code",
   "execution_count": 14,
   "metadata": {},
   "outputs": [
    {
     "name": "stdout",
     "output_type": "stream",
     "text": [
      "Could not open input file: artisan\r\n"
     ]
    }
   ],
   "source": [
    "! php artisan migrate"
   ]
  },
  {
   "cell_type": "markdown",
   "metadata": {},
   "source": [
    "Edit the [.env](../../../edit/08_laravel/01_tutorial/demo/.env) file, and replace:\n",
    "\n",
    "```\n",
    "DB_CONNECTION=mysql\n",
    "DB_HOST=127.0.0.1\n",
    "DB_PORT=3306\n",
    "DB_DATABASE=laravel\n",
    "DB_USERNAME=root\n",
    "DB_PASSWORD=\n",
    "```\n",
    "\n",
    "by\n",
    "\n",
    "```\n",
    "DB_CONNECTION=mysql\n",
    "DB_HOST=127.0.0.1\n",
    "DB_PORT=3306\n",
    "DB_DATABASE=test\n",
    "DB_USERNAME=test\n",
    "DB_PASSWORD=test123\n",
    "```"
   ]
  },
  {
   "cell_type": "code",
   "execution_count": null,
   "metadata": {},
   "outputs": [],
   "source": [
    "! php artisan migrate"
   ]
  },
  {
   "cell_type": "markdown",
   "metadata": {},
   "source": [
    "#### Codeception + Database"
   ]
  },
  {
   "cell_type": "markdown",
   "metadata": {},
   "source": [
    "To connect to the database from tests, open the [tests_codeception/acceptance.suite.yml](../../../edit/08_laravel/01_tutorial/demo/tests_codeception/acceptance.suite.yml) and add\n",
    "\n",
    "```yml\n",
    "modules:\n",
    "    enabled:\n",
    "        - Db:\n",
    "            dsn: 'mysql:host=127.0.0.1;dbname=test'\n",
    "            user: 'test'\n",
    "            password: 'test123'\n",
    "```"
   ]
  },
  {
   "cell_type": "markdown",
   "metadata": {},
   "source": [
    "Edit code in [tests_codeception/acceptance/HomepageCept.php](../../../edit/08_laravel/01_tutorial/demo/tests_codeception/acceptance/HomepageCept.php) and add below code at the end:\n",
    "\n",
    "```php\n",
    "$I->dontSeeInDatabase('users');\n",
    "```"
   ]
  },
  {
   "cell_type": "code",
   "execution_count": 2,
   "metadata": {},
   "outputs": [
    {
     "data": {
      "text/plain": [
       "<subprocess.Popen at 0x7fec3c257790>"
      ]
     },
     "execution_count": 2,
     "metadata": {},
     "output_type": "execute_result"
    }
   ],
   "source": [
    "import subprocess\n",
    "subprocess.Popen(['php', 'artisan', 'serve', '--port', '8888'])"
   ]
  },
  {
   "cell_type": "code",
   "execution_count": null,
   "metadata": {},
   "outputs": [],
   "source": [
    "! vendor/bin/codecept run"
   ]
  },
  {
   "cell_type": "code",
   "execution_count": null,
   "metadata": {},
   "outputs": [],
   "source": [
    "! killall php7.4"
   ]
  },
  {
   "cell_type": "markdown",
   "metadata": {},
   "source": [
    "#### Database dump"
   ]
  },
  {
   "cell_type": "markdown",
   "metadata": {},
   "source": [
    "Dump the contents of the ```test``` database to ```dump.sql``` file:"
   ]
  },
  {
   "cell_type": "code",
   "execution_count": null,
   "metadata": {},
   "outputs": [],
   "source": [
    "# Based on: https://gist.github.com/spalladino/6d981f7b33f6e0afe6bb\n",
    "! docker exec mysql mysqldump -u root --password=root123 test > tests_codeception/_data/dump.sql"
   ]
  },
  {
   "cell_type": "markdown",
   "metadata": {},
   "source": [
    "Open and inspect the generated file [tests_codeception/_data/dump.sql](../../../edit/08_laravel/01_tutorial/demo/tests_codeception/_data/dump.sql)."
   ]
  },
  {
   "cell_type": "markdown",
   "metadata": {},
   "source": [
    "Open the [tests_codeception/acceptance.suite.yml](../../../edit/08_laravel/01_tutorial/demo/tests_codeception/acceptance.suite.yml) and replace:\n",
    "\n",
    "```yml\n",
    "dsn: 'mysql:host=127.0.0.1;dbname=test'\n",
    "user: 'test'\n",
    "password: 'test123'\n",
    "```\n",
    "\n",
    "by:\n",
    "\n",
    "```yml\n",
    "dsn: 'mysql:host=127.0.0.1;dbname=test'\n",
    "user: 'test'\n",
    "password: 'test123'\n",
    "populate: true\n",
    "cleanup: true\n",
    "dump: tests_codeception/_data/dump.sql\n",
    "```"
   ]
  },
  {
   "cell_type": "code",
   "execution_count": null,
   "metadata": {},
   "outputs": [],
   "source": [
    "import subprocess\n",
    "subprocess.Popen(['php', 'artisan', 'serve', '--port', '8888'])"
   ]
  },
  {
   "cell_type": "code",
   "execution_count": null,
   "metadata": {},
   "outputs": [],
   "source": [
    "! vendor/bin/codecept run"
   ]
  },
  {
   "cell_type": "code",
   "execution_count": null,
   "metadata": {},
   "outputs": [],
   "source": [
    "! killall php7.4"
   ]
  },
  {
   "cell_type": "markdown",
   "metadata": {},
   "source": [
    "#### Cleanup"
   ]
  },
  {
   "cell_type": "markdown",
   "metadata": {},
   "source": [
    "Change working directory:"
   ]
  },
  {
   "cell_type": "code",
   "execution_count": null,
   "metadata": {},
   "outputs": [],
   "source": [
    "%cd .."
   ]
  },
  {
   "cell_type": "markdown",
   "metadata": {},
   "source": [
    "Stop database:"
   ]
  },
  {
   "cell_type": "code",
   "execution_count": 28,
   "metadata": {},
   "outputs": [
    {
     "name": "stdout",
     "output_type": "stream",
     "text": [
      "mysql\r\n"
     ]
    }
   ],
   "source": [
    "! docker container stop mysql"
   ]
  },
  {
   "cell_type": "markdown",
   "metadata": {},
   "source": [
    "Cleanup:"
   ]
  },
  {
   "cell_type": "code",
   "execution_count": 29,
   "metadata": {},
   "outputs": [
    {
     "name": "stdout",
     "output_type": "stream",
     "text": [
      "warning: failed to remove ./: Invalid argument\r\n",
      "Removing ./tests\r\n",
      "Removing ./.gitattributes\r\n",
      "Removing ./.styleci.yml\r\n",
      "Removing ./artisan\r\n",
      "Removing ./public\r\n",
      "Removing ./database\r\n",
      "Removing ./resources\r\n",
      "Removing ./vendor\r\n",
      "Removing ./bootstrap\r\n",
      "Removing ./.env.example\r\n",
      "Removing ./README.md\r\n",
      "Removing ./webpack.mix.js\r\n",
      "Removing ./composer.json\r\n",
      "Removing ./.editorconfig\r\n",
      "Removing ./routes\r\n",
      "Removing ./package.json\r\n",
      "Removing ./docker-compose.yml\r\n",
      "Removing ./.gitignore\r\n",
      "Removing ./phpunit.xml\r\n",
      "Removing ./config\r\n",
      "Removing ./storage\r\n",
      "Removing ./composer.lock\r\n",
      "Removing ./server.php\r\n",
      "Removing ./.env\r\n",
      "Removing ./app\r\n"
     ]
    }
   ],
   "source": [
    "! git clean -fdx ."
   ]
  }
 ],
 "metadata": {
  "kernelspec": {
   "display_name": "Python 3",
   "language": "python",
   "name": "python3"
  },
  "language_info": {
   "codemirror_mode": {
    "name": "ipython",
    "version": 3
   },
   "file_extension": ".py",
   "mimetype": "text/x-python",
   "name": "python",
   "nbconvert_exporter": "python",
   "pygments_lexer": "ipython3",
   "version": "3.8.3"
  }
 },
 "nbformat": 4,
 "nbformat_minor": 4
}
