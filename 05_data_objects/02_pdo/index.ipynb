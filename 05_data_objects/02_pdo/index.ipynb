{
 "cells": [
  {
   "cell_type": "markdown",
   "metadata": {},
   "source": [
    "# PHP 2020"
   ]
  },
  {
   "cell_type": "markdown",
   "metadata": {},
   "source": [
    "## 5. PHP Data Objects"
   ]
  },
  {
   "cell_type": "markdown",
   "metadata": {},
   "source": [
    "### 5.2 PDO"
   ]
  },
  {
   "cell_type": "markdown",
   "metadata": {},
   "source": [
    "#### MySQL"
   ]
  },
  {
   "cell_type": "markdown",
   "metadata": {},
   "source": [
    "Starting the databse server:"
   ]
  },
  {
   "cell_type": "code",
   "execution_count": 2,
   "metadata": {},
   "outputs": [],
   "source": [
    "echo shell_exec(\"docker run --name=mysql --net=host --rm --env MYSQL_ROOT_PASSWORD=root123 --env MYSQL_DATABASE=test --env MYSQL_USER=test --env MYSQL_PASSWORD=test123 -d mysql/mysql-server:8.0\");"
   ]
  },
  {
   "cell_type": "code",
   "execution_count": 3,
   "metadata": {},
   "outputs": [
    {
     "data": {
      "text/plain": [
       "Done.\n",
       "\n"
      ]
     },
     "execution_count": 3,
     "metadata": {},
     "output_type": "execute_result"
    }
   ],
   "source": [
    "echo shell_exec(\"while ! timeout 1 bash -c 'echo > /dev/tcp/localhost/3306' 2> /dev/null; do sleep 1; done; echo 'Done.'\");"
   ]
  },
  {
   "cell_type": "markdown",
   "metadata": {},
   "source": [
    "Connect to the database:"
   ]
  },
  {
   "cell_type": "code",
   "execution_count": 4,
   "metadata": {},
   "outputs": [
    {
     "data": {
      "text/plain": [
       "\u001b[34;4mPDO\u001b[39;24m {#11\n",
       "  \u001b[34minTransaction\u001b[39m: \u001b[36mfalse\u001b[39m,\n",
       "  \u001b[34mattributes\u001b[39m: {\n",
       "    \u001b[34mCASE\u001b[39m: \u001b[36mNATURAL\u001b[39m,\n",
       "    \u001b[34mERRMODE\u001b[39m: \u001b[36mSILENT\u001b[39m,\n",
       "    \u001b[34mAUTOCOMMIT\u001b[39m: \u001b[35m1\u001b[39m,\n",
       "    \u001b[34mPERSISTENT\u001b[39m: \u001b[36mfalse\u001b[39m,\n",
       "    \u001b[34mDRIVER_NAME\u001b[39m: \"\u001b[32mmysql\u001b[39m\",\n",
       "    \u001b[34mSERVER_INFO\u001b[39m: \"\u001b[32mUptime: 1491  Threads: 2  Questions: 268  Slow queries: 0  Opens: 155  Flush tables: 3  Open tables: 76  Queries per second avg: 0.179\u001b[39m\",\n",
       "    \u001b[34mORACLE_NULLS\u001b[39m: \u001b[36mNATURAL\u001b[39m,\n",
       "    \u001b[34mCLIENT_VERSION\u001b[39m: \"\u001b[32mmysqlnd 7.4.3\u001b[39m\",\n",
       "    \u001b[34mSERVER_VERSION\u001b[39m: \"\u001b[32m8.0.22\u001b[39m\",\n",
       "    \u001b[34mSTATEMENT_CLASS\u001b[39m: [\n",
       "      \"\u001b[32mPDOStatement\u001b[39m\",\n",
       "    ],\n",
       "    \u001b[34mEMULATE_PREPARES\u001b[39m: \u001b[35m1\u001b[39m,\n",
       "    \u001b[34mCONNECTION_STATUS\u001b[39m: \"\u001b[32m127.0.0.1 via TCP/IP\u001b[39m\",\n",
       "    \u001b[34mDEFAULT_FETCH_MODE\u001b[39m: \u001b[36mBOTH\u001b[39m,\n",
       "  },\n",
       "}"
      ]
     },
     "execution_count": 4,
     "metadata": {},
     "output_type": "execute_result"
    }
   ],
   "source": [
    "$pdo = new PDO(\"mysql:host=127.0.0.1;port=3306;dbname=test\", \"test\", \"test123\");"
   ]
  },
  {
   "cell_type": "markdown",
   "metadata": {},
   "source": [
    "Set error mode to exceptions:"
   ]
  },
  {
   "cell_type": "code",
   "execution_count": 5,
   "metadata": {},
   "outputs": [
    {
     "data": {
      "text/plain": [
       "\u001b[36mtrue\u001b[39m"
      ]
     },
     "execution_count": 5,
     "metadata": {},
     "output_type": "execute_result"
    }
   ],
   "source": [
    "$pdo->setAttribute(PDO::ATTR_ERRMODE, PDO::ERRMODE_EXCEPTION);"
   ]
  },
  {
   "cell_type": "markdown",
   "metadata": {},
   "source": [
    "Create the test table if it does not exist:"
   ]
  },
  {
   "cell_type": "code",
   "execution_count": 6,
   "metadata": {},
   "outputs": [
    {
     "data": {
      "text/plain": [
       "\u001b[35m0\u001b[39m"
      ]
     },
     "execution_count": 6,
     "metadata": {},
     "output_type": "execute_result"
    }
   ],
   "source": [
    "$pdo->exec(\"CREATE TABLE IF NOT EXISTS test (`id` INT PRIMARY KEY, `value` TEXT)\");"
   ]
  },
  {
   "cell_type": "markdown",
   "metadata": {},
   "source": [
    "Delete all rows:"
   ]
  },
  {
   "cell_type": "code",
   "execution_count": 7,
   "metadata": {},
   "outputs": [
    {
     "data": {
      "text/plain": [
       "\u001b[35m0\u001b[39m"
      ]
     },
     "execution_count": 7,
     "metadata": {},
     "output_type": "execute_result"
    }
   ],
   "source": [
    "$pdo->exec(\"DELETE FROM test\");"
   ]
  },
  {
   "cell_type": "markdown",
   "metadata": {},
   "source": [
    "Insert some data:"
   ]
  },
  {
   "cell_type": "code",
   "execution_count": 8,
   "metadata": {},
   "outputs": [
    {
     "data": {
      "text/plain": [
       "\u001b[34;4mPDOStatement\u001b[39;24m {#98\n",
       "  +\u001b[1mqueryString\u001b[22m: \"\u001b[32mINSERT INTO test VALUES (:id, :data)\u001b[39m\",\n",
       "}"
      ]
     },
     "execution_count": 8,
     "metadata": {},
     "output_type": "execute_result"
    }
   ],
   "source": [
    "$statement = $pdo->prepare(\"INSERT INTO test VALUES (:id, :data)\");"
   ]
  },
  {
   "cell_type": "code",
   "execution_count": 9,
   "metadata": {},
   "outputs": [
    {
     "data": {
      "text/plain": [
       "\u001b[36mtrue\u001b[39m"
      ]
     },
     "execution_count": 9,
     "metadata": {},
     "output_type": "execute_result"
    }
   ],
   "source": [
    "$statement->bindValue('id', 20);\n",
    "$statement->bindValue('data', \"XXX\");\n",
    "$statement->execute();"
   ]
  },
  {
   "cell_type": "code",
   "execution_count": 10,
   "metadata": {},
   "outputs": [
    {
     "data": {
      "text/plain": [
       "\u001b[36mtrue\u001b[39m"
      ]
     },
     "execution_count": 10,
     "metadata": {},
     "output_type": "execute_result"
    }
   ],
   "source": [
    "$statement->bindValue('id', 30);\n",
    "$statement->bindValue('data', \"YYY\");\n",
    "$statement->execute();"
   ]
  },
  {
   "cell_type": "markdown",
   "metadata": {},
   "source": [
    "Select data from database:"
   ]
  },
  {
   "cell_type": "code",
   "execution_count": 11,
   "metadata": {},
   "outputs": [
    {
     "data": {
      "text/plain": [
       "[\n",
       "  [\n",
       "    \"\u001b[34mid\u001b[39m\" => \"\u001b[32m20\u001b[39m\",\n",
       "    \u001b[34m0\u001b[39m => \"\u001b[32m20\u001b[39m\",\n",
       "    \"\u001b[34mvalue\u001b[39m\" => \"\u001b[32mXXX\u001b[39m\",\n",
       "    \u001b[34m1\u001b[39m => \"\u001b[32mXXX\u001b[39m\",\n",
       "  ],\n",
       "  [\n",
       "    \"\u001b[34mid\u001b[39m\" => \"\u001b[32m30\u001b[39m\",\n",
       "    \u001b[34m0\u001b[39m => \"\u001b[32m30\u001b[39m\",\n",
       "    \"\u001b[34mvalue\u001b[39m\" => \"\u001b[32mYYY\u001b[39m\",\n",
       "    \u001b[34m1\u001b[39m => \"\u001b[32mYYY\u001b[39m\",\n",
       "  ],\n",
       "]"
      ]
     },
     "execution_count": 11,
     "metadata": {},
     "output_type": "execute_result"
    }
   ],
   "source": [
    "$query = $pdo->query(\"SELECT * FROM test\");\n",
    "$query->fetchAll();"
   ]
  },
  {
   "cell_type": "markdown",
   "metadata": {},
   "source": [
    "Select data from database as associative table:"
   ]
  },
  {
   "cell_type": "code",
   "execution_count": 12,
   "metadata": {},
   "outputs": [
    {
     "data": {
      "text/plain": [
       "[\n",
       "  [\n",
       "    \"\u001b[34mid\u001b[39m\" => \"\u001b[32m20\u001b[39m\",\n",
       "    \"\u001b[34mvalue\u001b[39m\" => \"\u001b[32mXXX\u001b[39m\",\n",
       "  ],\n",
       "  [\n",
       "    \"\u001b[34mid\u001b[39m\" => \"\u001b[32m30\u001b[39m\",\n",
       "    \"\u001b[34mvalue\u001b[39m\" => \"\u001b[32mYYY\u001b[39m\",\n",
       "  ],\n",
       "]"
      ]
     },
     "execution_count": 12,
     "metadata": {},
     "output_type": "execute_result"
    }
   ],
   "source": [
    "$query = $pdo->query(\"SELECT * FROM test\");\n",
    "$query->fetchAll(PDO::FETCH_ASSOC);"
   ]
  },
  {
   "cell_type": "markdown",
   "metadata": {},
   "source": [
    "Select data from database as objects:"
   ]
  },
  {
   "cell_type": "code",
   "execution_count": 13,
   "metadata": {},
   "outputs": [
    {
     "data": {
      "text/plain": [
       "[\n",
       "  {#179\n",
       "    +\"\u001b[1mid\u001b[22m\": \"\u001b[32m20\u001b[39m\",\n",
       "    +\"\u001b[1mvalue\u001b[22m\": \"\u001b[32mXXX\u001b[39m\",\n",
       "  },\n",
       "  {#188\n",
       "    +\"\u001b[1mid\u001b[22m\": \"\u001b[32m30\u001b[39m\",\n",
       "    +\"\u001b[1mvalue\u001b[22m\": \"\u001b[32mYYY\u001b[39m\",\n",
       "  },\n",
       "]"
      ]
     },
     "execution_count": 13,
     "metadata": {},
     "output_type": "execute_result"
    }
   ],
   "source": [
    "$query = $pdo->query(\"SELECT * FROM test\");\n",
    "$query->fetchAll(PDO::FETCH_OBJ);"
   ]
  },
  {
   "cell_type": "markdown",
   "metadata": {},
   "source": [
    "Select data from database as table:"
   ]
  },
  {
   "cell_type": "code",
   "execution_count": 14,
   "metadata": {},
   "outputs": [
    {
     "data": {
      "text/plain": [
       "[\n",
       "  [\n",
       "    \"\u001b[32m20\u001b[39m\",\n",
       "    \"\u001b[32mXXX\u001b[39m\",\n",
       "  ],\n",
       "  [\n",
       "    \"\u001b[32m30\u001b[39m\",\n",
       "    \"\u001b[32mYYY\u001b[39m\",\n",
       "  ],\n",
       "]"
      ]
     },
     "execution_count": 14,
     "metadata": {},
     "output_type": "execute_result"
    }
   ],
   "source": [
    "$query = $pdo->query(\"SELECT * FROM test\");\n",
    "$query->fetchAll(PDO::FETCH_NUM);"
   ]
  },
  {
   "cell_type": "markdown",
   "metadata": {},
   "source": [
    "Select data from database as table with both numeric and assciative keys:"
   ]
  },
  {
   "cell_type": "code",
   "execution_count": 15,
   "metadata": {},
   "outputs": [
    {
     "data": {
      "text/plain": [
       "[\n",
       "  [\n",
       "    \"\u001b[34mid\u001b[39m\" => \"\u001b[32m20\u001b[39m\",\n",
       "    \u001b[34m0\u001b[39m => \"\u001b[32m20\u001b[39m\",\n",
       "    \"\u001b[34mvalue\u001b[39m\" => \"\u001b[32mXXX\u001b[39m\",\n",
       "    \u001b[34m1\u001b[39m => \"\u001b[32mXXX\u001b[39m\",\n",
       "  ],\n",
       "  [\n",
       "    \"\u001b[34mid\u001b[39m\" => \"\u001b[32m30\u001b[39m\",\n",
       "    \u001b[34m0\u001b[39m => \"\u001b[32m30\u001b[39m\",\n",
       "    \"\u001b[34mvalue\u001b[39m\" => \"\u001b[32mYYY\u001b[39m\",\n",
       "    \u001b[34m1\u001b[39m => \"\u001b[32mYYY\u001b[39m\",\n",
       "  ],\n",
       "]"
      ]
     },
     "execution_count": 15,
     "metadata": {},
     "output_type": "execute_result"
    }
   ],
   "source": [
    "$query = $pdo->query(\"SELECT * FROM test\");\n",
    "$query->fetchAll(PDO::FETCH_BOTH);"
   ]
  },
  {
   "cell_type": "markdown",
   "metadata": {},
   "source": [
    "Select data from database as objects of specific type:"
   ]
  },
  {
   "cell_type": "code",
   "execution_count": null,
   "metadata": {},
   "outputs": [],
   "source": [
    "class Test {\n",
    "    public $id;\n",
    "    public $value;\n",
    "}\n",
    "$query = $pdo->query(\"SELECT * FROM test\");\n",
    "$query->fetchAll(PDO::FETCH_CLASS, Test::class);"
   ]
  },
  {
   "cell_type": "markdown",
   "metadata": {},
   "source": [
    "Stop the database server:"
   ]
  },
  {
   "cell_type": "code",
   "execution_count": 16,
   "metadata": {},
   "outputs": [
    {
     "data": {
      "text/plain": [
       "mysql\n",
       "\n"
      ]
     },
     "execution_count": 16,
     "metadata": {},
     "output_type": "execute_result"
    }
   ],
   "source": [
    "echo shell_exec(\"docker container stop mysql\");"
   ]
  },
  {
   "cell_type": "markdown",
   "metadata": {},
   "source": [
    "### SQLite"
   ]
  },
  {
   "cell_type": "code",
   "execution_count": null,
   "metadata": {},
   "outputs": [],
   "source": [
    "$pdo = new PDO(\"sqlite:/tmp/sqlite.db\");"
   ]
  },
  {
   "cell_type": "code",
   "execution_count": null,
   "metadata": {},
   "outputs": [],
   "source": [
    "$pdo->setAttribute(PDO::ATTR_ERRMODE, PDO::ERRMODE_EXCEPTION);"
   ]
  },
  {
   "cell_type": "code",
   "execution_count": null,
   "metadata": {},
   "outputs": [],
   "source": [
    "$pdo->exec(\"CREATE TABLE IF NOT EXISTS test (id INTEGER PRIMARY KEY, data TEXT NOT NULL)\");"
   ]
  },
  {
   "cell_type": "code",
   "execution_count": null,
   "metadata": {},
   "outputs": [],
   "source": [
    "$pdo->exec(\"DELETE FROM test\");"
   ]
  },
  {
   "cell_type": "code",
   "execution_count": null,
   "metadata": {},
   "outputs": [],
   "source": [
    "$statement = $pdo->prepare(\"INSERT INTO test VALUES (:id, :data)\");\n",
    "$statement->bindValue('id', 20);\n",
    "$statement->bindValue('data', \"XXX\");\n",
    "$statement->execute();"
   ]
  },
  {
   "cell_type": "code",
   "execution_count": null,
   "metadata": {},
   "outputs": [],
   "source": [
    "$query = $pdo->query(\"SELECT * FROM test\");\n",
    "$query->fetchAll();"
   ]
  },
  {
   "cell_type": "code",
   "execution_count": 17,
   "metadata": {},
   "outputs": [],
   "source": [
    "echo shell_exec(\"rm -f /tmp/sqlite.db\");"
   ]
  }
 ],
 "metadata": {
  "kernelspec": {
   "display_name": "PHP",
   "language": "php",
   "name": "jupyter-php"
  },
  "language_info": {
   "file_extension": ".php",
   "mimetype": "text/x-php",
   "name": "PHP",
   "pygments_lexer": "PHP",
   "version": "7.4.3"
  }
 },
 "nbformat": 4,
 "nbformat_minor": 4
}
